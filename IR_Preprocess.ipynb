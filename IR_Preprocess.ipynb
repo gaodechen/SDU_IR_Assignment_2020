{
 "cells": [
  {
   "cell_type": "markdown",
   "metadata": {
    "colab_type": "text",
    "id": "W7HFOdT5QVmW"
   },
   "source": [
    "# Construct Dataset with Negative Samples\n",
    "\n",
    "Ratio of negative candidates to positive samples can be set with variable **NEGATIVE_SCALE**, samples are written into .csv files in ./data/csv/.\n",
    "\n",
    "The final dataset generated process has another variable **NEGATIVE_EXPORT_SCALE** to determine the scale of negative samples picked from candidates.\n"
   ]
  },
  {
   "cell_type": "code",
   "execution_count": 1,
   "metadata": {
    "ExecuteTime": {
     "end_time": "2020-06-09T07:55:06.957024Z",
     "start_time": "2020-06-09T07:55:04.462614Z"
    },
    "colab": {},
    "colab_type": "code",
    "execution": {
     "iopub.execute_input": "2020-06-16T03:03:46.149988Z",
     "iopub.status.busy": "2020-06-16T03:03:46.149751Z",
     "iopub.status.idle": "2020-06-16T03:03:47.652142Z",
     "shell.execute_reply": "2020-06-16T03:03:47.651627Z",
     "shell.execute_reply.started": "2020-06-16T03:03:46.149967Z"
    },
    "id": "KuYO7jlQJGQ0"
   },
   "outputs": [],
   "source": [
    "'''\n",
    "    Initialize data frames with .csv files\n",
    "'''\n",
    "import pandas as pd\n",
    "import tqdm\n",
    "\n",
    "csv_folder = './data/csv/'\n",
    "document_csv_file = csv_folder + 'documents.csv'\n",
    "training_csv_file = csv_folder + 'training.csv'\n",
    "validation_csv_file = csv_folder + 'validation.csv'\n",
    "\n",
    "document_pd = pd.read_csv(document_csv_file)\n",
    "training_pd = pd.read_csv(training_csv_file)\n",
    "validation_pd = pd.read_csv(validation_csv_file)\n",
    "\n",
    "# Get ids of all documents\n",
    "doc_id_list = list(document_pd['doc_id'])"
   ]
  },
  {
   "cell_type": "code",
   "execution_count": 2,
   "metadata": {
    "ExecuteTime": {
     "end_time": "2020-06-09T02:34:35.273099Z",
     "start_time": "2020-06-09T02:33:26.354671Z"
    },
    "colab": {},
    "colab_type": "code",
    "execution": {
     "iopub.execute_input": "2020-06-16T03:06:55.778659Z",
     "iopub.status.busy": "2020-06-16T03:06:55.778359Z",
     "iopub.status.idle": "2020-06-16T03:07:57.714280Z",
     "shell.execute_reply": "2020-06-16T03:07:57.713807Z",
     "shell.execute_reply.started": "2020-06-16T03:06:55.778631Z"
    },
    "id": "RTe0rn2ZguIt"
   },
   "outputs": [],
   "source": [
    "'''\n",
    "    Construct dataset with negative candidates, save to data frames\n",
    "'''\n",
    "# Max ratio of positive to negative samples\n",
    "NEGATIVE_SCALE = 200\n",
    "\n",
    "'''\n",
    "    Return list of negative samples\n",
    "'''\n",
    "import random\n",
    "idx_range = len(doc_id_list) - 1\n",
    "\n",
    "def get_negative_ids(ids, num_new):\n",
    "    new_ids = []\n",
    "    ids = ids.copy()\n",
    "    while len(new_ids) < num_new:\n",
    "        idx:int\n",
    "        while True:\n",
    "            idx = doc_id_list[random.randint(0, idx_range)]\n",
    "            if idx not in ids:\n",
    "                break\n",
    "        # Insert new idx to ids\n",
    "        ids.append(idx)\n",
    "        new_ids.append(idx)\n",
    "    return new_ids\n",
    "\n",
    "def get_df_with_negative(df):\n",
    "    idx = 0\n",
    "    for query in zip(df['query_id'], df['query_text'], df['query_label']):\n",
    "        query_id = query[0]\n",
    "        query_text = query[1]\n",
    "        query_label = [int(id) for id in query[2].split()]\n",
    "        positive_ids = [int(id) for id in query[2].split()]\n",
    "        num_positive = len(positive_ids)\n",
    "        negative_ids = get_negative_ids(query_label, num_positive * NEGATIVE_SCALE)\n",
    "        df.loc[idx, 'negative_label'] = ' '.join([str(_) for _ in negative_ids])\n",
    "        idx += 1\n",
    "    return df\n",
    "\n",
    "training_pd = get_df_with_negative(training_pd)\n",
    "training_pd.to_csv(training_csv_file)\n",
    "validation_pd = get_df_with_negative(validation_pd)\n",
    "validation_pd.to_csv(validation_csv_file)"
   ]
  },
  {
   "cell_type": "code",
   "execution_count": 4,
   "metadata": {
    "ExecuteTime": {
     "end_time": "2020-06-09T07:55:08.700831Z",
     "start_time": "2020-06-09T07:55:08.689585Z"
    },
    "colab": {},
    "colab_type": "code",
    "execution": {
     "iopub.execute_input": "2020-06-16T03:14:10.197240Z",
     "iopub.status.busy": "2020-06-16T03:14:10.197004Z",
     "iopub.status.idle": "2020-06-16T03:14:10.204592Z",
     "shell.execute_reply": "2020-06-16T03:14:10.203985Z",
     "shell.execute_reply.started": "2020-06-16T03:14:10.197218Z"
    },
    "id": "ZM_hOfS6NIw2"
   },
   "outputs": [],
   "source": [
    "'''\n",
    "    Export dataset with negative samples times by NEGATIVE_EXPORT_SCALE\n",
    "    Used for feature engineering\n",
    "'''\n",
    "def export_csv(output_file, df):\n",
    "    relevance_col = []\n",
    "    query_id_col = []\n",
    "    doc_id_col = []\n",
    "    \n",
    "    if NEGATIVE_EXPORT_SCALE is not 0:\n",
    "        for query in zip(df['query_id'], df['query_text'], df['query_label'], df['negative_label']):\n",
    "            query_id, query_text, query_label, negative_label = query\n",
    "            query_label = query_label.split()\n",
    "            negative_label = negative_label.split()\n",
    "            num_positive = len(query_label)\n",
    "            # Export positive samples, relevance ranges from 7 to 1\n",
    "            for i in range(num_positive):\n",
    "                relevance_col.extend([num_positive - i])\n",
    "                query_id_col.extend([query_id])\n",
    "                doc_id_col.extend([query_label[i]])\n",
    "            # Negative samples relevance is 0\n",
    "            for i in range(NEGATIVE_EXPORT_SCALE * num_positive):\n",
    "                relevance_col.extend([0])\n",
    "                query_id_col.extend([query_id])\n",
    "                doc_id_col.extend([negative_label[i]])\n",
    "    else:\n",
    "        for query in zip(df['query_id'], df['query_text'], df['query_label']):\n",
    "            query_id, query_text, query_label = query\n",
    "            query_label = query_label.split()\n",
    "            num_positive = len(query_label)\n",
    "            # Export positive samples, relevance ranges from 7 to 1\n",
    "            for i in range(num_positive):\n",
    "                relevance_col.extend([num_positive - i])\n",
    "                query_id_col.extend([query_id])\n",
    "                doc_id_col.extend([query_label[i]])\n",
    "    \n",
    "    export_pd = pd.DataFrame({'relevance': relevance_col, 'query_id': query_id_col, 'doc_id': doc_id_col})\n",
    "    export_pd.to_csv(output_file, index=False)"
   ]
  },
  {
   "cell_type": "code",
   "execution_count": 8,
   "metadata": {
    "ExecuteTime": {
     "end_time": "2020-06-09T07:55:14.816748Z",
     "start_time": "2020-06-09T07:55:14.308656Z"
    },
    "colab": {},
    "colab_type": "code",
    "execution": {
     "iopub.execute_input": "2020-06-16T03:14:21.466253Z",
     "iopub.status.busy": "2020-06-16T03:14:21.466015Z",
     "iopub.status.idle": "2020-06-16T03:14:23.789004Z",
     "shell.execute_reply": "2020-06-16T03:14:23.788501Z",
     "shell.execute_reply.started": "2020-06-16T03:14:21.466230Z"
    },
    "id": "daMaS1M_Zc1E"
   },
   "outputs": [],
   "source": [
    "# Export training query doc pairs\n",
    "NEGATIVE_EXPORT_SCALE = 30\n",
    "csv_folder = './data/csv/'\n",
    "training_csv_file = csv_folder + 'training.csv'\n",
    "export_csv_file = csv_folder + 'export_training_' + str(NEGATIVE_EXPORT_SCALE) + '.csv'\n",
    "training_pd = pd.read_csv(training_csv_file)\n",
    "export_csv(export_csv_file, training_pd)"
   ]
  },
  {
   "cell_type": "code",
   "execution_count": 7,
   "metadata": {
    "ExecuteTime": {
     "end_time": "2020-06-09T07:55:22.649903Z",
     "start_time": "2020-06-09T07:55:22.600106Z"
    },
    "colab": {},
    "colab_type": "code",
    "execution": {
     "iopub.execute_input": "2020-06-16T03:14:20.357885Z",
     "iopub.status.busy": "2020-06-16T03:14:20.357664Z",
     "iopub.status.idle": "2020-06-16T03:14:20.589598Z",
     "shell.execute_reply": "2020-06-16T03:14:20.589088Z",
     "shell.execute_reply.started": "2020-06-16T03:14:20.357865Z"
    },
    "id": "ScpaCPzBhFwl"
   },
   "outputs": [],
   "source": [
    "# Export validation query doc pairs\n",
    "NEGATIVE_EXPORT_SCALE = 30\n",
    "csv_folder = './data/csv/'\n",
    "validation_csv_file = csv_folder + 'validation.csv'\n",
    "export_csv_file = csv_folder + 'export_validation_' + str(NEGATIVE_EXPORT_SCALE) + '.csv'\n",
    "validation_pd = pd.read_csv(validation_csv_file)\n",
    "export_csv(export_csv_file, validation_pd)"
   ]
  },
  {
   "cell_type": "code",
   "execution_count": 16,
   "metadata": {
    "execution": {
     "iopub.execute_input": "2020-06-16T03:18:02.620918Z",
     "iopub.status.busy": "2020-06-16T03:18:02.620693Z",
     "iopub.status.idle": "2020-06-16T03:18:02.752320Z",
     "shell.execute_reply": "2020-06-16T03:18:02.751874Z",
     "shell.execute_reply.started": "2020-06-16T03:18:02.620896Z"
    }
   },
   "outputs": [
    {
     "data": {
      "text/html": [
       "<div>\n",
       "<style scoped>\n",
       "    .dataframe tbody tr th:only-of-type {\n",
       "        vertical-align: middle;\n",
       "    }\n",
       "\n",
       "    .dataframe tbody tr th {\n",
       "        vertical-align: top;\n",
       "    }\n",
       "\n",
       "    .dataframe thead th {\n",
       "        text-align: right;\n",
       "    }\n",
       "</style>\n",
       "<table border=\"1\" class=\"dataframe\">\n",
       "  <thead>\n",
       "    <tr style=\"text-align: right;\">\n",
       "      <th></th>\n",
       "      <th>relevance</th>\n",
       "      <th>query_id</th>\n",
       "      <th>doc_id</th>\n",
       "    </tr>\n",
       "  </thead>\n",
       "  <tbody>\n",
       "    <tr>\n",
       "      <th>0</th>\n",
       "      <td>1</td>\n",
       "      <td>1185869</td>\n",
       "      <td>0</td>\n",
       "    </tr>\n",
       "    <tr>\n",
       "      <th>1</th>\n",
       "      <td>0</td>\n",
       "      <td>1185869</td>\n",
       "      <td>2981666</td>\n",
       "    </tr>\n",
       "    <tr>\n",
       "      <th>2</th>\n",
       "      <td>0</td>\n",
       "      <td>1185869</td>\n",
       "      <td>1016027</td>\n",
       "    </tr>\n",
       "    <tr>\n",
       "      <th>3</th>\n",
       "      <td>0</td>\n",
       "      <td>1185869</td>\n",
       "      <td>4024789</td>\n",
       "    </tr>\n",
       "    <tr>\n",
       "      <th>4</th>\n",
       "      <td>0</td>\n",
       "      <td>1185869</td>\n",
       "      <td>4262969</td>\n",
       "    </tr>\n",
       "    <tr>\n",
       "      <th>...</th>\n",
       "      <td>...</td>\n",
       "      <td>...</td>\n",
       "      <td>...</td>\n",
       "    </tr>\n",
       "    <tr>\n",
       "      <th>993173</th>\n",
       "      <td>0</td>\n",
       "      <td>696607</td>\n",
       "      <td>5367825</td>\n",
       "    </tr>\n",
       "    <tr>\n",
       "      <th>993174</th>\n",
       "      <td>0</td>\n",
       "      <td>696607</td>\n",
       "      <td>641284</td>\n",
       "    </tr>\n",
       "    <tr>\n",
       "      <th>993175</th>\n",
       "      <td>0</td>\n",
       "      <td>696607</td>\n",
       "      <td>3511449</td>\n",
       "    </tr>\n",
       "    <tr>\n",
       "      <th>993176</th>\n",
       "      <td>0</td>\n",
       "      <td>696607</td>\n",
       "      <td>2556105</td>\n",
       "    </tr>\n",
       "    <tr>\n",
       "      <th>993177</th>\n",
       "      <td>0</td>\n",
       "      <td>696607</td>\n",
       "      <td>5512618</td>\n",
       "    </tr>\n",
       "  </tbody>\n",
       "</table>\n",
       "<p>993178 rows × 3 columns</p>\n",
       "</div>"
      ],
      "text/plain": [
       "        relevance  query_id   doc_id\n",
       "0               1   1185869        0\n",
       "1               0   1185869  2981666\n",
       "2               0   1185869  1016027\n",
       "3               0   1185869  4024789\n",
       "4               0   1185869  4262969\n",
       "...           ...       ...      ...\n",
       "993173          0    696607  5367825\n",
       "993174          0    696607   641284\n",
       "993175          0    696607  3511449\n",
       "993176          0    696607  2556105\n",
       "993177          0    696607  5512618\n",
       "\n",
       "[993178 rows x 3 columns]"
      ]
     },
     "execution_count": 16,
     "metadata": {},
     "output_type": "execute_result"
    }
   ],
   "source": [
    "pd.read_csv(export_csv_file)"
   ]
  }
 ],
 "metadata": {
  "colab": {
   "authorship_tag": "ABX9TyNFoELGjhmx+EnsXSKFvZYX",
   "collapsed_sections": [],
   "name": "IR_Preprocess",
   "provenance": []
  },
  "kernelspec": {
   "display_name": "Python 3",
   "language": "python",
   "name": "python3"
  },
  "language_info": {
   "codemirror_mode": {
    "name": "ipython",
    "version": 3
   },
   "file_extension": ".py",
   "mimetype": "text/x-python",
   "name": "python",
   "nbconvert_exporter": "python",
   "pygments_lexer": "ipython3",
   "version": "3.6.9"
  },
  "toc": {
   "base_numbering": 1,
   "nav_menu": {},
   "number_sections": true,
   "sideBar": true,
   "skip_h1_title": false,
   "title_cell": "Table of Contents",
   "title_sidebar": "Contents",
   "toc_cell": false,
   "toc_position": {
    "height": "calc(100% - 180px)",
    "left": "10px",
    "top": "150px",
    "width": "307.2px"
   },
   "toc_section_display": true,
   "toc_window_display": true
  }
 },
 "nbformat": 4,
 "nbformat_minor": 4
}
