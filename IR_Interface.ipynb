{
 "cells": [
  {
   "cell_type": "markdown",
   "metadata": {
    "colab_type": "text",
    "id": "1YEGapaPVPyq"
   },
   "source": [
    "# Two-Stage Scheme - Recall"
   ]
  },
  {
   "cell_type": "markdown",
   "metadata": {},
   "source": [
    "## Preparation for recalling\n",
    "\n",
    "* Load models\n",
    "* Compute features\n",
    "* Recall"
   ]
  },
  {
   "cell_type": "code",
   "execution_count": 1,
   "metadata": {
    "ExecuteTime": {
     "end_time": "2020-06-09T10:34:26.458821Z",
     "start_time": "2020-06-09T10:33:28.482229Z"
    },
    "colab": {
     "base_uri": "https://localhost:8080/",
     "height": 322
    },
    "colab_type": "code",
    "execution": {
     "iopub.execute_input": "2020-06-16T06:01:52.874425Z",
     "iopub.status.busy": "2020-06-16T06:01:52.874202Z",
     "iopub.status.idle": "2020-06-16T06:02:52.750477Z",
     "shell.execute_reply": "2020-06-16T06:02:52.749983Z",
     "shell.execute_reply.started": "2020-06-16T06:01:52.874402Z"
    },
    "executionInfo": {
     "elapsed": 170465,
     "status": "ok",
     "timestamp": 1591574631634,
     "user": {
      "displayName": "G DC",
      "photoUrl": "https://lh3.googleusercontent.com/a-/AOh14GgdTpZxzZ2QbpOVgSBCa49qEewNSQ8rsi8Y9A_W=s64",
      "userId": "09626979524344434372"
     },
     "user_tz": -480
    },
    "id": "eSKrwjD7W4cN",
    "outputId": "fe8c39c1-152b-4cdb-de2d-c246bb244227"
   },
   "outputs": [
    {
     "name": "stdout",
     "output_type": "stream",
     "text": [
      "Loading models...\n",
      "Loaded\n",
      "Initialize BM25 model\n",
      "BM25 loaded\n"
     ]
    }
   ],
   "source": [
    "import pandas as pd\n",
    "from gensim import corpora, similarities, models\n",
    "from gensim.models import Word2Vec\n",
    "from tqdm import tqdm\n",
    "from gensim.summarization.bm25 import BM25\n",
    "import time\n",
    "import numpy as np\n",
    "import math\n",
    "import collections\n",
    "from multiprocessing import cpu_count, Pool\n",
    "import Levenshtein\n",
    "import textdistance\n",
    "\n",
    "'''\n",
    "    Initialize models\n",
    "'''\n",
    "print('Loading models...')\n",
    "vec_model_path = './model/Word2Vec/GoogleNews-vectors-negative300.bin.gz'\n",
    "\n",
    "g_vec_model = models.KeyedVectors.load_word2vec_format(vec_model_path, binary=True)\n",
    "g_dictionary = corpora.Dictionary.load('./model/Word2Vec/dictionary.dict')\n",
    "g_tfidf_model = models.TfidfModel.load(\"./model/Word2Vec/tfidf.model\")\n",
    "g_index = similarities.SparseMatrixSimilarity.load('./model/Word2Vec/index.index')\n",
    "print('Loaded')\n",
    "'''\n",
    "    Pool all text from documents\n",
    "'''\n",
    "csv_folder = './data/csv/'\n",
    "document_csv_file = csv_folder + 'documents.csv'\n",
    "document_pd = pd.read_csv(document_csv_file)\n",
    "\n",
    "# pool all items from documents\n",
    "raw_text = document_pd['doc_text'].values.tolist()\n",
    "text_pool = [line.split() for line in raw_text]\n",
    "\n",
    "from collections import defaultdict\n",
    "# Remove words appear once\n",
    "word_freq = defaultdict(int)\n",
    "for line in text_pool:\n",
    "    for word in line:\n",
    "        word_freq[word] += 1\n",
    "text_pool = [[token for token in line if word_freq[token] > 1] for line in text_pool]\n",
    "\n",
    "'''\n",
    "    Load BM25 model\n",
    "'''\n",
    "from gensim.corpora.mmcorpus import MmCorpus\n",
    "from gensim.test.utils import datapath\n",
    "\n",
    "dict_path = './model/Word2Vec/'\n",
    "\n",
    "print('Initialize BM25 model')\n",
    "g_corpus = MmCorpus(dict_path + 'corpus.mm')\n",
    "g_bm25_model = BM25(text_pool)\n",
    "print('BM25 loaded')"
   ]
  },
  {
   "cell_type": "markdown",
   "metadata": {},
   "source": [
    "## Get Features Utils"
   ]
  },
  {
   "cell_type": "code",
   "execution_count": 2,
   "metadata": {
    "ExecuteTime": {
     "end_time": "2020-06-09T10:36:22.861582Z",
     "start_time": "2020-06-09T10:36:22.820540Z"
    },
    "colab": {},
    "colab_type": "code",
    "execution": {
     "iopub.execute_input": "2020-06-16T06:20:57.080073Z",
     "iopub.status.busy": "2020-06-16T06:20:57.079832Z",
     "iopub.status.idle": "2020-06-16T06:20:57.121658Z",
     "shell.execute_reply": "2020-06-16T06:20:57.121188Z",
     "shell.execute_reply.started": "2020-06-16T06:20:57.080051Z"
    },
    "id": "DX1IJ4tzg08b"
   },
   "outputs": [],
   "source": [
    "'''\n",
    "    Features computation utils\n",
    "'''\n",
    "def get_len(x):\n",
    "    '''\n",
    "        Length of tokens\n",
    "    '''\n",
    "    x = x.split()\n",
    "    return len(x)\n",
    "\n",
    "\n",
    "def get_token_cnt(x, y):\n",
    "    '''\n",
    "        Compute times of each token of y appeared in x\n",
    "    '''\n",
    "    x = x.split()\n",
    "    y = y.split()\n",
    "    num = 0\n",
    "    for i in y:\n",
    "        if i in x:\n",
    "            num += 1\n",
    "    return num\n",
    "\n",
    "\n",
    "def get_token_cnt_ratio(x, y):\n",
    "    x = x.split()\n",
    "    return y / len(x)\n",
    "\n",
    "\n",
    "def get_jaccard_sim(x, y):\n",
    "    '''\n",
    "        Jaccard Similarity between x & y\n",
    "    '''\n",
    "    x = set(x)\n",
    "    y = set(y)\n",
    "    return float(len(x & y) / len(x | y))\n",
    "\n",
    "\n",
    "def get_mat_cos_sim(doc, corpus):\n",
    "    '''\n",
    "        Cosine Similarity between x & y\n",
    "    '''\n",
    "    doc = doc.split(' ')\n",
    "    corpus = corpus.split(' ')\n",
    "\n",
    "    corpus_vec = [g_dictionary.doc2bow(corpus)]\n",
    "    vec = g_dictionary.doc2bow(doc)\n",
    "\n",
    "    corpus_tfidf = g_tfidf_model[corpus_vec]\n",
    "    vec_tfidf = g_tfidf_model[vec]\n",
    "\n",
    "    num_features = len(g_dictionary.token2id.keys())\n",
    "    mat_index = similarities.SparseMatrixSimilarity(corpus_tfidf, num_features=num_features)\n",
    "    sim = mat_index.get_similarities(vec_tfidf)\n",
    "\n",
    "    return sim[0]\n",
    "\n",
    "\n",
    "def get_weight_counter_and_tf_idf(x, y):\n",
    "    x = x.split()\n",
    "    y = y.split()\n",
    "    corups = x + y\n",
    "    obj = dict(collections.Counter(corups))\n",
    "    x_weight = []\n",
    "    y_weight = []\n",
    "    idfs = []\n",
    "    for key in obj.keys():\n",
    "        idf = 1\n",
    "        w = obj[key]\n",
    "        if key in x:\n",
    "            idf += 1\n",
    "            x_weight.append(w)\n",
    "        else:\n",
    "            x_weight.append(0)\n",
    "        if key in y:\n",
    "            idf += 1\n",
    "            y_weight.append(w)\n",
    "        else:\n",
    "            y_weight.append(0)\n",
    "        idfs.append(math.log(3.0 / idf) + 1)\n",
    "    return [np.array(x_weight), np.array(y_weight), np.array(x_weight) * np.array(idfs), np.array(y_weight) * np.array(idfs), np.array(list(obj.keys()))]\n",
    "\n",
    "\n",
    "def get_manhattan_distance(x, y):\n",
    "    '''\n",
    "        Manhattan distance\n",
    "    '''\n",
    "    return np.linalg.norm(x - y, ord=1)\n",
    "\n",
    "\n",
    "def get_manhattan_distance_by_id(query_id, doc_id):\n",
    "    '''\n",
    "        Manhattan distance\n",
    "    '''\n",
    "    x = get_vec_by_query_id(query_id)\n",
    "    y = get_vec_by_doc_id(doc_id)\n",
    "    return np.linalg.norm(x - y, ord=1)\n",
    "    \n",
    "\n",
    "def get_cos_sim(x, y):\n",
    "    '''\n",
    "        Cosine similarity between vectors\n",
    "    '''\n",
    "    return np.dot(x, y) / (np.linalg.norm(x) * np.linalg.norm(y))\n",
    "\n",
    "\n",
    "def get_cos_sim_by_id(query_id, doc_id):\n",
    "    '''\n",
    "        Cosine similarity between vectors\n",
    "    '''\n",
    "    x = get_vec_by_query_id(query_id)\n",
    "    y = get_vec_by_doc_id(doc_id)\n",
    "    return np.dot(x, y) / (np.linalg.norm(x) * np.linalg.norm(y))\n",
    "\n",
    "   \n",
    "def get_euclidean_sim(x, y):\n",
    "    '''\n",
    "        Euclidean similarity between vectors\n",
    "    '''\n",
    "    return np.sqrt(np.sum(x - y) ** 2)\n",
    "\n",
    "\n",
    "def get_euclidean_sim_by_id(query_id, doc_id):\n",
    "    '''\n",
    "        Euclidean similarity between vectors\n",
    "    '''\n",
    "    x = get_vec_by_query_id(query_id)\n",
    "    y = get_vec_by_doc_id(doc_id)\n",
    "    return np.sqrt(np.sum(x - y) ** 2)\n",
    "\n",
    "\n",
    "def get_tfidf_sim(query, doc):\n",
    "    '''\n",
    "        TF-IDF\n",
    "    '''\n",
    "    weight = list(map(lambda x, y: get_weight_counter_and_tf_idf(x, y), tqdm(query), doc))\n",
    "    x_weight_couner = []\n",
    "    y_weight_couner = []\n",
    "    x_weight_tfidf = []\n",
    "    y_weight_tfidf = []\n",
    "    words = []\n",
    "    for i in weight:\n",
    "        x_weight_couner.append(i[0])\n",
    "        y_weight_couner.append(i[1])\n",
    "        x_weight_tfidf.append(i[2])\n",
    "        y_weight_tfidf.append(i[3])\n",
    "        words.append(i[4])\n",
    "\n",
    "    mht_sim_counter = list(map(lambda x, y: get_manhattan_distance(x, y), x_weight_couner, y_weight_couner))\n",
    "    mht_sim_tfidf = list(map(lambda x, y: get_manhattan_distance(x, y), x_weight_tfidf, y_weight_tfidf))\n",
    "\n",
    "    cos_sim_counter = list(map(lambda x, y: get_cos_sim(x, y), x_weight_couner, y_weight_couner))\n",
    "    cos_sim_tfidf = list(map(lambda x, y: get_cos_sim(x, y), x_weight_tfidf, y_weight_tfidf))\n",
    "\n",
    "    euclidean_sim_counter = list(map(lambda x, y: get_euclidean_sim(x, y), x_weight_couner, y_weight_couner))\n",
    "    euclidean_sim_tfidf = list(map(lambda x, y: get_euclidean_sim(x, y), x_weight_tfidf, y_weight_tfidf))\n",
    "\n",
    "    return mht_sim_counter, mht_sim_tfidf, cos_sim_counter, cos_sim_tfidf, euclidean_sim_counter, euclidean_sim_tfidf\n",
    "\n",
    "\n",
    "def get_word_vec(x):\n",
    "    '''\n",
    "        Word2Vec\n",
    "    '''\n",
    "    vec = []\n",
    "    for word in x.split():\n",
    "        if word in g_vec_model:\n",
    "            vec.append(g_vec_model[word])\n",
    "    if len(vec) == 0:\n",
    "        return np.nan\n",
    "    else:\n",
    "        return np.mean(np.array(vec), axis=0)\n",
    "\n",
    "\n",
    "def get_df_grams(train_sample, values, cols):\n",
    "    def create_ngram_set(input_list, ngram_value):\n",
    "        return set(zip(*[input_list[i:] for i in range(ngram_value)]))\n",
    "\n",
    "    def get_n_gram(df, values):\n",
    "        train_query = df.values\n",
    "        train_query = [[word for word in str(sen).replace(\"'\", '').split(' ')] for sen in train_query]\n",
    "        train_query_n = []\n",
    "        for input_list in train_query:\n",
    "            train_query_n_gram = set()\n",
    "            for value in range(values, values + 1):\n",
    "                train_query_n_gram = train_query_n_gram | create_ngram_set(input_list, value)\n",
    "            train_query_n.append(train_query_n_gram)\n",
    "        return train_query_n\n",
    "\n",
    "    train_query = get_n_gram(train_sample[cols[0]], values)\n",
    "    train_title = get_n_gram(train_sample[cols[1]], values)\n",
    "    sim = list(map(lambda x, y: len(x) + len(y) - 2 * len(x & y), train_query, train_title))\n",
    "    sim_number_rate = list(map(lambda x, y:   len(x & y) / len(x) if len(x) != 0 else 0, train_query, train_title))\n",
    "    return sim, sim_number_rate\n",
    "\n",
    "\n",
    "def get_token_matched_features(query, title):\n",
    "    q_list = query.split()\n",
    "    t_list = title.split()\n",
    "    set_query = set(q_list)\n",
    "    set_title = set(t_list)\n",
    "    count_words = len(set_query.union(set_title))\n",
    "\n",
    "    comwords = [word for word in t_list if word in q_list]\n",
    "    comwords_set = set(comwords)\n",
    "    unique_rate = len(comwords_set) / count_words\n",
    "\n",
    "    same_word1 = [w for w in q_list if w in t_list]\n",
    "    same_word2 = [w for w in t_list if w in q_list]\n",
    "    same_len_rate = (len(same_word1) + len(same_word2)) / \\\n",
    "        (len(q_list) + len(t_list))\n",
    "    if len(comwords) > 0:\n",
    "        com_index1 = len(comwords)\n",
    "        same_word_q = com_index1 / len(q_list)\n",
    "        same_word_t = com_index1 / len(t_list)\n",
    "\n",
    "        for word in comwords_set:\n",
    "            index_list = [i for i, x in enumerate(q_list) if x == word]\n",
    "            com_index1 += sum(index_list)\n",
    "        q_loc = com_index1 / (len(q_list) * len(comwords))\n",
    "        com_index2 = len(comwords)\n",
    "        for word in comwords_set:\n",
    "            index_list = [i for i, x in enumerate(t_list) if x == word]\n",
    "            com_index2 += sum(index_list)\n",
    "        t_loc = com_index2 / (len(t_list) * len(comwords))\n",
    "\n",
    "        same_w_set_q = len(comwords_set) / len(set_query)\n",
    "        same_w_set_t = len(comwords_set) / len(set_title)\n",
    "        word_set_rate = 2 * len(comwords_set) / \\\n",
    "            (len(set_query) + len(set_title))\n",
    "\n",
    "        com_set_query_index = len(comwords_set)\n",
    "        for word in comwords_set:\n",
    "            index_list = [i for i, x in enumerate(q_list) if x == word]\n",
    "            if len(index_list) > 0:\n",
    "                com_set_query_index += index_list[0]\n",
    "        loc_set_q = com_set_query_index / (len(q_list) * len(comwords_set))\n",
    "        com_set_title_index = len(comwords_set)\n",
    "        for word in comwords_set:\n",
    "            index_list = [i for i, x in enumerate(t_list) if x == word]\n",
    "            if len(index_list) > 0:\n",
    "                com_set_title_index += index_list[0]\n",
    "        loc_set_t = com_set_title_index / (len(t_list) * len(comwords_set))\n",
    "        set_rate = (len(comwords_set) / len(comwords))\n",
    "    else:\n",
    "        unique_rate, same_len_rate, same_word_q, same_word_t, q_loc, t_loc, same_w_set_q, same_w_set_t, word_set_rate, loc_set_q, loc_set_t, set_rate = 0, 0, 0, 0, 0, 0, 0, 0, 0, 0, 0, 0\n",
    "    return unique_rate, same_len_rate, same_word_q, same_word_t, q_loc, t_loc, same_w_set_q, same_w_set_t, word_set_rate, loc_set_q, loc_set_t, set_rate\n",
    "\n",
    "\n",
    "def get_substr_features(query, title):\n",
    "    q_list = query.split()\n",
    "    query_len = len(q_list)\n",
    "    t_list = title.split()\n",
    "    title_len = len(t_list)\n",
    "    count1 = np.zeros((query_len + 1, title_len + 1))\n",
    "    index = np.zeros((query_len + 1, title_len + 1))\n",
    "    for i in range(1, query_len + 1):\n",
    "        for j in range(1, title_len + 1):\n",
    "            if q_list[i - 1] == t_list[j - 1]:\n",
    "                count1[i][j] = count1[i - 1][j - 1] + 1\n",
    "                index[i][j] = index[i - 1][j - 1] + j\n",
    "            else:\n",
    "                count1[i][j] = 0\n",
    "                index[i][j] = 0\n",
    "    max_count1 = count1.max()\n",
    "\n",
    "    if max_count1 != 0:\n",
    "        row = int(np.where(count1 == np.max(count1))[0][0])\n",
    "        col = int(np.where(count1 == np.max(count1))[1][0])\n",
    "        mean_pos = index[row][col] / (max_count1 * title_len)\n",
    "        begin_loc = (col - max_count1 + 1) / title_len\n",
    "        rows = np.where(count1 != 0.0)[0]\n",
    "        cols = np.where(count1 != 0.0)[1]\n",
    "        total_loc = 0\n",
    "        for i in range(0, len(rows)):\n",
    "            total_loc += index[rows[i]][cols[i]]\n",
    "        density = total_loc / (query_len * title_len)\n",
    "        rate_q_len = max_count1 / query_len\n",
    "        rate_t_len = max_count1 / title_len\n",
    "    else:\n",
    "        begin_loc, mean_pos, total_loc, density, rate_q_len, rate_t_len = 0, 0, 0, 0, 0, 0\n",
    "    return max_count1, begin_loc, mean_pos, total_loc, density, rate_q_len, rate_t_len\n",
    "\n",
    "\n",
    "def get_common_words(query, title):\n",
    "    query = set(query.split())\n",
    "    title = set(title.split())\n",
    "    return len(query & title)\n",
    "\n",
    "\n",
    "def get_bm25_group(df):\n",
    "    '''\n",
    "        Build BM25 model for each query group\n",
    "    '''\n",
    "    df.columns = ['query_id', 'query_text', 'doc_text']\n",
    "    df['query_id'] = df['query_id'].fillna('always_nan')\n",
    "    query_id_group = df.groupby(['query_id'])\n",
    "    bm_list = []\n",
    "    for name, group in tqdm(query_id_group):\n",
    "        group_corpus = group['doc_text'].values.tolist()\n",
    "        group_corpus = [sentence.strip().split() for sentence in group_corpus]\n",
    "        query = group['query_text'].values[0].strip().split()\n",
    "        group_bm25_model = BM25(group_corpus, k1=0.6, b=0.4)\n",
    "        bm_score = group_bm25_model.get_scores(query)\n",
    "        bm_list.extend(bm_score)\n",
    "\n",
    "    return bm_list\n",
    "\n",
    "def get_bm25_overall(doc_id, query_text):\n",
    "    '''\n",
    "        Compute BM25 with model over all documents\n",
    "    '''\n",
    "    score = g_bm25_model.get_score(query_text.split(' '), doc_id2idx[doc_id])\n",
    "    return score\n",
    "\n",
    "def get_vec_by_query_id(query_id):\n",
    "    return query_pd['query_vec'][query_id2idx[query_id]]\n",
    "\n",
    "def get_vec_by_doc_id(doc_id):\n",
    "    return document_pd['doc_vec'][doc_id2idx[doc_id]]"
   ]
  },
  {
   "cell_type": "markdown",
   "metadata": {},
   "source": [
    "## Get Features Interface"
   ]
  },
  {
   "cell_type": "code",
   "execution_count": 37,
   "metadata": {
    "ExecuteTime": {
     "end_time": "2020-06-08T10:00:43.253026Z",
     "start_time": "2020-06-08T10:00:43.232086Z"
    },
    "execution": {
     "iopub.execute_input": "2020-06-16T07:14:54.680981Z",
     "iopub.status.busy": "2020-06-16T07:14:54.680730Z",
     "iopub.status.idle": "2020-06-16T07:14:54.696059Z",
     "shell.execute_reply": "2020-06-16T07:14:54.695614Z",
     "shell.execute_reply.started": "2020-06-16T07:14:54.680960Z"
    }
   },
   "outputs": [],
   "source": [
    "def get_features(feature_data):\n",
    "    '''\n",
    "        Compute all features\n",
    "    '''\n",
    "    tic = time.time()\n",
    "    data = feature_data.copy()\n",
    "    feat_prefix = 'feat_'\n",
    "\n",
    "    # get text for each id\n",
    "    data['query_text'] = data['query_id'].apply(lambda query_id: query_map[query_id])\n",
    "    data['doc_text'] = data['doc_id'].apply(lambda doc_id: document_map[doc_id])\n",
    "    \n",
    "    data['query_len'] = data['query_text'].apply(get_len)\n",
    "    data['doc_len'] = data['doc_text'].apply(get_len)\n",
    "\n",
    "    data[feat_prefix + 'jaccard_sim'] = list(map(get_jaccard_sim, data['query_text'], data['doc_text']))\n",
    "    data[feat_prefix + 'edit_distance'] = list(map(lambda x, y: Levenshtein.distance(x, y) / (len(x) + 1), tqdm(data['query_text']), data['doc_text']))\n",
    "    data[feat_prefix + 'edit_jaro'] = list(map(lambda x, y: Levenshtein.jaro(x, y), tqdm(data['query_text']), data['doc_text']))\n",
    "    data[feat_prefix + 'edit_ratio'] = list(map(lambda x, y: Levenshtein.ratio(x, y), tqdm(data['query_text']), data['doc_text']))\n",
    "    data[feat_prefix + 'edit_jaro_winkler'] = list(map(lambda x, y: Levenshtein.jaro_winkler(x, y), tqdm(data['query_text']), data['doc_text']))\n",
    "    data[feat_prefix + 'hamming'] = list(map(lambda x, y: textdistance.Hamming(qval=None).normalized_distance(x, y), tqdm(data['query_text']), data['doc_text']))\n",
    "\n",
    "    data[feat_prefix + 'mat_cos_sim'] = list(map(lambda x, y: get_mat_cos_sim(x, y), tqdm(data['query_text']), data['doc_text']))\n",
    "\n",
    "    data[feat_prefix + 'mht_sim'], data['tf_mht_sim'], \\\n",
    "    data[feat_prefix + 'cos_sim'], data['tf_cos_sim'], \\\n",
    "    data[feat_prefix + 'euc_sim'], data['tf_euc_sim'] \\\n",
    "        = get_tfidf_sim(data['query_text'], data['doc_text'])\n",
    "    \n",
    "    data[feat_prefix + '2_gram_sim'], data[feat_prefix + '2_sim_number_rate'] = get_df_grams(data, 2, ['query_text', 'doc_text'])\n",
    "    data[feat_prefix + '3_gram_sim'], data[feat_prefix + '3_sim_number_rate'] = get_df_grams(data, 3, ['query_text', 'doc_text'])\n",
    "    \n",
    "    '''\n",
    "    data[feat_prefix + 'query_token_matched_cnt'] = list(map(get_token_cnt, data['doc_text'], data['query_text']))\n",
    "    data[feat_prefix + 'query_token_matched_cnt_ratio'] = list(map(get_token_cnt_ratio, data['query_text'], data['feat_query_token_matched_cnt']))\n",
    "    data[feat_prefix + \"ls_max_count\"], data[feat_prefix + \"ls_local_begin\"], data[feat_prefix + \"ls_local_mean\"], data[feat_prefix+\"ls_total_loc\"], data[feat_prefix + \"ls_density\"], data[feat_prefix + \"ls_rate_q_len\"], data[feat_prefix + \"ls_rate_t_len\"] = zip(*data.apply(lambda line: get_substr_features(line[\"query_text\"], line[\"doc_text\"]), axis=1))\n",
    "    data[feat_prefix + 'common_words'] = list(map(get_common_words, data['doc_text'], data['query_text']))\n",
    "    data[feat_prefix + 'common_words_rate_q'] = data[feat_prefix + 'common_words'] / data['query_len']\n",
    "    data[feat_prefix + 'common_words_rate_d'] = data[feat_prefix + 'common_words'] / data['doc_len']\n",
    "    data[feat_prefix + \"unique_rate\"], data[feat_prefix + \"same_len_rate\"], data[feat_prefix + \"same_word_q\"], data[feat_prefix + \"same_word_t\"], data[feat_prefix + \"q_loc\"], data[feat_prefix + \"t_loc\"], data[feat_prefix + \"same_w_set_q\"], data[feat_prefix + \"same_w_set_t\"], data[feat_prefix + \"word_set_rate\"], data[feat_prefix + \"loc_set_q\"], data[feat_prefix + \"loc_set_t\"], data[feat_prefix + \"set_rate\"] = zip(*data.apply(lambda line: get_token_matched_features(line[\"query_text\"], line[\"doc_text\"]), axis=1))\n",
    "    '''\n",
    "    data['common_words'] = list(map(get_common_words, data['doc_text'], data['query_text']))\n",
    "    data[feat_prefix + 'common_words_rate_q'] = data['common_words'] / data['query_len']\n",
    "    \n",
    "    data[feat_prefix + 'bm25_group'] = get_bm25_group(data[['query_id', 'query_text', 'doc_text']])\n",
    "    data[feat_prefix + 'bm25_overall'] = list(map(get_bm25_overall, tqdm(data['doc_id']), data['query_text']))\n",
    "    \n",
    "    # data['query_vec'] = data['query_id'].apply(get_word_vec, data['query_text'])\n",
    "    # data['doc_vec'] = data['doc_id'].apply(get_word_vec, data['doc_text'])\n",
    "    # data['query_vec'] = data['query_id'].apply(get_vec_by_query_id, data['query_id'])\n",
    "    # data['doc_vec'] = data['doc_id'].apply(get_vec_by_doc_id, data['doc_id'])\n",
    "    \n",
    "    data[feat_prefix + 'cos_mean_word2vec'] = list(map(get_cos_sim_by_id, tqdm(data['query_id']), data['doc_id']))\n",
    "    data[feat_prefix + 'cos_mean_word2vec'] = data[feat_prefix + 'cos_mean_word2vec'].apply(lambda x: np.nan if np.isnan(x).any() else x)\n",
    "    data[feat_prefix + 'euc_mean_word2vec'] = list(map(get_euclidean_sim_by_id, tqdm(data['query_id']), data['doc_id']))\n",
    "    data[feat_prefix + 'mhd_mean_word2vec'] = list(map(get_manhattan_distance_by_id, tqdm(data['query_id']), data['doc_id']))\n",
    "    data[feat_prefix + 'mhd_mean_word2vec'] = list(map(lambda x, y: np.nan if np.isnan(x).any() or np.isnan(y).any() else get_manhattan_distance_by_id(x, y), tqdm(data['query_id']), data['doc_id']))\n",
    "    \n",
    "\n",
    "    feat = ['query_id', 'doc_id']\n",
    "    for col in data.columns:\n",
    "        if col.find(feat_prefix) != -1:\n",
    "            feat.append(col)\n",
    "\n",
    "    data = data[feat]\n",
    "    toc = time.time()\n",
    "    print(f'Features computation done in {toc - tic}s')\n",
    "    \n",
    "    return data"
   ]
  },
  {
   "cell_type": "markdown",
   "metadata": {
    "colab_type": "text",
    "id": "p1LIO55lZJOn"
   },
   "source": [
    "## Recall Strategies\n",
    "\n",
    "* BM25\n",
    "* Sparse Matrix Similarity (COS)\n",
    "* TF-IDF\n",
    "* TODO: F1EXP\n",
    "* REMOVED: Cosine Similarity between Word2Vec"
   ]
  },
  {
   "cell_type": "code",
   "execution_count": 5,
   "metadata": {
    "ExecuteTime": {
     "end_time": "2020-06-09T10:36:33.591543Z",
     "start_time": "2020-06-09T10:36:33.585476Z"
    },
    "colab": {},
    "colab_type": "code",
    "execution": {
     "iopub.execute_input": "2020-06-16T06:34:54.016861Z",
     "iopub.status.busy": "2020-06-16T06:34:54.016626Z",
     "iopub.status.idle": "2020-06-16T06:34:54.023814Z",
     "shell.execute_reply": "2020-06-16T06:34:54.023360Z",
     "shell.execute_reply.started": "2020-06-16T06:34:54.016839Z"
    },
    "id": "5-ErEwINYOk8"
   },
   "outputs": [],
   "source": [
    "def recall_bm25(query_text):\n",
    "    '''\n",
    "        BM25\n",
    "    '''\n",
    "    scores = g_bm25_model.get_scores(query_text.split())\n",
    "    sort_idx = np.argsort(scores)[::-1]\n",
    "    return list(map(lambda x: str(doc_idx2id[x]), sort_idx))\n",
    "\n",
    "def recall_sparse_mat_sim(query_text):\n",
    "    '''\n",
    "        Sparse matrix similarity\n",
    "    '''\n",
    "    query_vec = g_dictionary.doc2bow(query_text.split())\n",
    "    scores = g_index[query_vec]\n",
    "    sort_idx = np.argsort(scores)[::-1]\n",
    "    return list(map(lambda x: str(doc_idx2id[x]), sort_idx))\n",
    "\n",
    "def recall_mat_cos_sim(query_text):\n",
    "    '''\n",
    "        TF-IDF cosine similarity\n",
    "    '''\n",
    "    scores = list(map(lambda x: get_mat_cos_sim(query_text, x), tqdm(document_pd['doc_text'])))\n",
    "    sort_idx = np.argsort(scores)[::-1]\n",
    "    return list(map(lambda x: str(doc_idx2id[x]), sort_idx))\n",
    "\n",
    "def recall_word_vec_cos_sim(query_text):\n",
    "    '''\n",
    "        Cosine similarity of word vectors\n",
    "        * Deprecated: too slow\n",
    "    '''\n",
    "    query_vec = get_word_vec(query_text)\n",
    "    scores = list(map(lambda x: get_cos_sim(query_vec, x), document_pd['doc_vec']))\n",
    "    sort_idx = np.argsort(scores)[::-1]\n",
    "    return list(map(lambda x: str(doc_idx2id[x]), sort_idx))"
   ]
  },
  {
   "cell_type": "markdown",
   "metadata": {
    "colab_type": "text",
    "id": "TB_uf1_4V5DN"
   },
   "source": [
    "# Two-Stage Scheme - Ranking"
   ]
  },
  {
   "cell_type": "code",
   "execution_count": 1,
   "metadata": {
    "ExecuteTime": {
     "end_time": "2020-06-09T05:33:10.622645Z",
     "start_time": "2020-06-09T05:33:10.619230Z"
    },
    "colab": {},
    "colab_type": "code",
    "execution": {
     "iopub.execute_input": "2020-06-17T01:43:39.053496Z",
     "iopub.status.busy": "2020-06-17T01:43:39.053255Z",
     "iopub.status.idle": "2020-06-17T01:43:39.057998Z",
     "shell.execute_reply": "2020-06-17T01:43:39.057522Z",
     "shell.execute_reply.started": "2020-06-17T01:43:39.053471Z"
    },
    "id": "0N5XLooi8las"
   },
   "outputs": [],
   "source": [
    "def get_single_pred(test_x, NEGATIVE_SCALE = 2, model_type = 'LGB'):\n",
    "    # NEGATIVE_SCALE = 5\n",
    "    model_folder = f'./model/{model_type}/{NEGATIVE_SCALE}/'\n",
    "    model_file = model_folder + 'single_model'\n",
    "    \n",
    "    model = pd.read_pickle(model_file)\n",
    "    return model.predict(test_x)\n",
    "\n",
    "def get_fold_pred(test_x, NEGATIVE_SCALE = 2, model_type = 'LGB'):\n",
    "    # NEGATIVE_SCALE = 5\n",
    "    model_folder = f'./model/{model_type}/{NEGATIVE_SCALE}/'\n",
    "    model_file = model_folder + 'fold_1_model'\n",
    "    \n",
    "    model = pd.read_pickle(model_file)\n",
    "    return model.predict(test_x)"
   ]
  },
  {
   "cell_type": "markdown",
   "metadata": {},
   "source": [
    "# Eval Metrics"
   ]
  },
  {
   "cell_type": "markdown",
   "metadata": {},
   "source": [
    "## MRR"
   ]
  },
  {
   "cell_type": "code",
   "execution_count": 2,
   "metadata": {
    "ExecuteTime": {
     "end_time": "2020-06-09T05:30:32.983769Z",
     "start_time": "2020-06-09T05:30:32.979754Z"
    },
    "execution": {
     "iopub.execute_input": "2020-06-17T01:43:40.415711Z",
     "iopub.status.busy": "2020-06-17T01:43:40.415464Z",
     "iopub.status.idle": "2020-06-17T01:43:40.421973Z",
     "shell.execute_reply": "2020-06-17T01:43:40.421531Z",
     "shell.execute_reply.started": "2020-06-17T01:43:40.415687Z"
    }
   },
   "outputs": [],
   "source": [
    "def MRR(indices_k, target, k=10):\n",
    "    \"\"\"\n",
    "    Compute mean reciprocal rank.\n",
    "    :param logits: 2d array [batch_size x rel_docs_per_query]\n",
    "    :param target: 2d array [batch_size x rel_docs_per_query]\n",
    "    :return: mean reciprocal rank [a float value]\n",
    "    \"\"\"\n",
    "    assert indices_k.shape == target.shape\n",
    "    # num_doc = logits.shape[1]\n",
    "    # indices_k = np.argsort(-logits, 1)[:, :k]  # 取topK 的index   [n, k]\n",
    "\n",
    "    reciprocal_rank = 0\n",
    "    for i in range(target.shape[0]):\n",
    "        for j in range(target.shape[1]):\n",
    "            idx = np.where(indices_k[i] == target[i][j])[0]\n",
    "            if len(idx) != 0:\n",
    "                assert len(idx) == 1\n",
    "                reciprocal_rank += 1.0 / (idx[0] + 1)\n",
    "                break\n",
    "    return reciprocal_rank / indices_k.shape[0]"
   ]
  },
  {
   "cell_type": "code",
   "execution_count": null,
   "metadata": {
    "ExecuteTime": {
     "end_time": "2020-06-09T01:19:13.592052Z",
     "start_time": "2020-06-09T01:19:13.588205Z"
    }
   },
   "outputs": [],
   "source": [
    "MRR(np.array([[0,1,2],[3,4,5]]),np.array([[0, np.nan, np.nan],[4, np.nan, np.nan]]))"
   ]
  },
  {
   "cell_type": "markdown",
   "metadata": {
    "colab_type": "text",
    "id": "sfgKMBBN-A4b"
   },
   "source": [
    "# Eval Interface on validation\n",
    "\n",
    "* Preprocess raw .json files\n",
    "* Recall\n",
    "* Re-rank"
   ]
  },
  {
   "cell_type": "code",
   "execution_count": null,
   "metadata": {
    "ExecuteTime": {
     "end_time": "2020-06-09T10:37:24.100095Z",
     "start_time": "2020-06-09T10:37:24.097731Z"
    },
    "colab": {},
    "colab_type": "code",
    "id": "uW7fZadfsJLS"
   },
   "outputs": [],
   "source": [
    "'''\n",
    "    Basic settings for eval configurations on validation set\n",
    "'''\n",
    "TEST_FLAG = False # Set true for the test without labels\n",
    "RECALL_SIZE = 500\n",
    "recall_func_list = [recall_bm25, recall_sparse_mat_sim]# recall_mat_cos_sim, recall_word_vec_cos_sim"
   ]
  },
  {
   "cell_type": "code",
   "execution_count": 7,
   "metadata": {
    "ExecuteTime": {
     "end_time": "2020-06-09T10:37:27.192002Z",
     "start_time": "2020-06-09T10:37:27.066631Z"
    },
    "colab": {
     "base_uri": "https://localhost:8080/",
     "height": 289
    },
    "colab_type": "code",
    "execution": {
     "iopub.execute_input": "2020-06-16T06:35:16.823358Z",
     "iopub.status.busy": "2020-06-16T06:35:16.823118Z",
     "iopub.status.idle": "2020-06-16T06:35:17.416593Z",
     "shell.execute_reply": "2020-06-16T06:35:17.416089Z",
     "shell.execute_reply.started": "2020-06-16T06:35:16.823335Z"
    },
    "executionInfo": {
     "elapsed": 7861,
     "status": "ok",
     "timestamp": 1591352469247,
     "user": {
      "displayName": "G DC",
      "photoUrl": "https://lh3.googleusercontent.com/a-/AOh14GgdTpZxzZ2QbpOVgSBCa49qEewNSQ8rsi8Y9A_W=s64",
      "userId": "09626979524344434372"
     },
     "user_tz": -480
    },
    "id": "hZ7arncElSw0",
    "outputId": "078e11da-fd20-45d4-94aa-7f0870643e82"
   },
   "outputs": [],
   "source": [
    "import json\n",
    "# Prepare for preprocessing\n",
    "from preprocess import TextPreprocessor as TPP\n",
    "import pandas as pd\n",
    "from tqdm import tqdm\n",
    "from unidecode import unidecode\n",
    "import nltk"
   ]
  },
  {
   "cell_type": "code",
   "execution_count": 8,
   "metadata": {
    "ExecuteTime": {
     "end_time": "2020-06-09T10:38:41.769615Z",
     "start_time": "2020-06-09T10:37:59.073493Z"
    },
    "colab": {},
    "colab_type": "code",
    "execution": {
     "iopub.execute_input": "2020-06-16T06:35:22.951697Z",
     "iopub.status.busy": "2020-06-16T06:35:22.951470Z",
     "iopub.status.idle": "2020-06-16T06:36:07.801019Z",
     "shell.execute_reply": "2020-06-16T06:36:07.800479Z",
     "shell.execute_reply.started": "2020-06-16T06:35:22.951675Z"
    },
    "id": "wjmVGD_Uqrqm"
   },
   "outputs": [],
   "source": [
    "'''\n",
    "    Load documents & queries\n",
    "'''\n",
    "csv_folder = './data/csv/'\n",
    "document_csv_file = csv_folder + 'documents.csv'\n",
    "query_csv_file = csv_folder + 'validation.csv'\n",
    "\n",
    "'''\n",
    "    Convert .json to .csv and preprocess text\n",
    "'''\n",
    "if TEST_FLAG is True:\n",
    "    '''\n",
    "        Iniaitlize test data\n",
    "    '''\n",
    "    json_path = './raw/test.json'\n",
    "    data_map = json.load(open(json_path))\n",
    "    query_csv_file = './csv/test.csv'\n",
    "    # Process query_id and query_text\n",
    "    df = pd.DataFrame({}, columns=['query_id', 'query_text'])\n",
    "    tpp = TPP()\n",
    "\n",
    "    pd_idx = 0\n",
    "    for (query_id, query_text) in tqdm(data_map['queries'].items()):\n",
    "        df.loc[pd_idx, 'query_id'] = query_id\n",
    "        df.loc[pd_idx, 'query_text'] = ' '.join(tpp.preprocess(unidecode(query_text)))\n",
    "        pd_idx = pd_idx + 1\n",
    "    \n",
    "    df.to_csv(query_csv_file)\n",
    "    \n",
    "'''\n",
    "    Load data frames\n",
    "'''\n",
    "document_pd = pd.read_csv(document_csv_file)\n",
    "document_pd['doc_vec'] = document_pd['doc_text'].apply(get_word_vec)\n",
    "query_pd = pd.read_csv(query_csv_file)\n",
    "query_pd['query_vec'] = query_pd['query_text'].apply(get_word_vec)\n",
    "\n",
    "'''\n",
    "    Initialize map\n",
    "'''\n",
    "document_map = dict()\n",
    "query_map = dict()\n",
    "doc_idx2id = dict()\n",
    "doc_id2idx = dict()\n",
    "query_id2idx = dict()\n",
    "for (doc_idx, doc_id) in enumerate(document_pd['doc_id']):\n",
    "    doc_idx2id[doc_idx] = doc_id\n",
    "    doc_id2idx[doc_id] = doc_idx\n",
    "for doc in zip(document_pd['doc_id'], document_pd['doc_text']):\n",
    "    document_map[doc[0]] = doc[1]\n",
    "\n",
    "for (query_idx, query_id) in enumerate(query_pd['query_id']):\n",
    "    query_id2idx[query_id] = query_idx\n",
    "for query in zip(query_pd['query_id'], query_pd['query_text']):\n",
    "    query_map[query[0]] = query[1]"
   ]
  },
  {
   "cell_type": "markdown",
   "metadata": {},
   "source": [
    "## Extract Recalling Features"
   ]
  },
  {
   "cell_type": "code",
   "execution_count": 9,
   "metadata": {
    "ExecuteTime": {
     "end_time": "2020-06-09T10:38:41.778950Z",
     "start_time": "2020-06-09T10:38:41.770999Z"
    },
    "colab": {},
    "colab_type": "code",
    "execution": {
     "iopub.execute_input": "2020-06-16T06:36:07.802067Z",
     "iopub.status.busy": "2020-06-16T06:36:07.801901Z",
     "iopub.status.idle": "2020-06-16T06:36:07.810631Z",
     "shell.execute_reply": "2020-06-16T06:36:07.810197Z",
     "shell.execute_reply.started": "2020-06-16T06:36:07.802049Z"
    },
    "id": "xGPQy9wg99vI"
   },
   "outputs": [],
   "source": [
    "'''\n",
    "    Test recalling strategies\n",
    "'''\n",
    "import time\n",
    "from multiprocessing import cpu_count, Pool, Manager\n",
    "\n",
    "def pool_extract(data, f, func, chunk_size, worker=8):\n",
    "    print('Pooling processes for ' + func.__name__)\n",
    "    cpu_worker = cpu_count()\n",
    "    print('CPU cores: {}'.format(cpu_worker))\n",
    "    if worker == -1 or worker > cpu_worker:\n",
    "        worker = cpu_worker\n",
    "    print('Cores used: {}'.format(worker))\n",
    "    t1 = time.time()\n",
    "    len_data = len(data)\n",
    "    start = 0\n",
    "    end = 0\n",
    "    p = Pool(worker)\n",
    "    ret_pool = []\n",
    "    while end < len_data:\n",
    "        end = start + chunk_size\n",
    "        if end > len_data:\n",
    "            end = len_data\n",
    "        ret_proc = p.apply_async(f, (data[start:end], func))\n",
    "        start = end\n",
    "        ret_pool.append(ret_proc)\n",
    "    p.close()\n",
    "    p.join()\n",
    "    t2 = time.time()\n",
    "    print(f'Time cost: {(t2 - t1)/60}')\n",
    "    ret = pd.concat([i.get() for i in ret_pool], axis=0, ignore_index=True)\n",
    "    return ret\n",
    "\n",
    "def test_recall(input_pd, recall_func):\n",
    "    input_pd = input_pd[['query_id', 'query_text', 'query_label']]\n",
    "    query_id_col = []\n",
    "    recall_col = []\n",
    "    # Recall\n",
    "    tic = time.time()\n",
    "    print(f'Begin {recall_func.__name__} chunk\\n')\n",
    "    for query in zip(input_pd['query_id'], input_pd['query_text'], input_pd['query_label']):\n",
    "        query_id, query_text, query_label = query\n",
    "        label_set = query_label.split()\n",
    "        # Recall and save recalled documents id\n",
    "        # ret_dict[query_id] = recall_func(query_text)[:RECALL_SIZE]\n",
    "        query_id_col.extend([query_id])\n",
    "        recall_col.extend([recall_func(query_text)[:RECALL_SIZE]])\n",
    "    toc = time.time()\n",
    "    print(f'{recall_func.__name__} chunk: Time {(toc - tic) / 60} minutes\\n')\n",
    "    return pd.DataFrame({'query_id': query_id_col, 'recall_set': recall_col}, columns=['query_id', 'recall_set'])"
   ]
  },
  {
   "cell_type": "code",
   "execution_count": 15,
   "metadata": {
    "ExecuteTime": {
     "end_time": "2020-06-09T10:42:59.958735Z",
     "start_time": "2020-06-09T10:38:41.780141Z"
    },
    "colab": {},
    "colab_type": "code",
    "execution": {
     "iopub.execute_input": "2020-06-16T06:47:47.158770Z",
     "iopub.status.busy": "2020-06-16T06:47:47.158531Z",
     "iopub.status.idle": "2020-06-16T06:54:21.504319Z",
     "shell.execute_reply": "2020-06-16T06:54:21.503786Z",
     "shell.execute_reply.started": "2020-06-16T06:47:47.158749Z"
    },
    "id": "ve_FrnNa1664"
   },
   "outputs": [
    {
     "name": "stdout",
     "output_type": "stream",
     "text": [
      "Pooling processes for recall_bm25\n",
      "CPU cores: 8\n",
      "Cores used: 8\n",
      "Begin recall_bm25 chunk\n",
      "\n",
      "Begin recall_bm25 chunk\n",
      "\n",
      "Begin recall_bm25 chunk\n",
      "\n",
      "Begin recall_bm25 chunk\n",
      "\n",
      "Begin recall_bm25 chunk\n",
      "\n",
      "Begin recall_bm25 chunk\n",
      "\n",
      "Begin recall_bm25 chunk\n",
      "Begin recall_bm25 chunk\n",
      "\n",
      "\n",
      "recall_bm25 chunk: Time 2.1446914076805115 minutes\n",
      "\n",
      "recall_bm25 chunk: Time 4.312712160746257 minutes\n",
      "\n",
      "recall_bm25 chunk: Time 4.323656479517619 minutes\n",
      "\n",
      "recall_bm25 chunk: Time 4.334283034006755 minutes\n",
      "\n",
      "recall_bm25 chunk: Time 4.333324265480042 minutes\n",
      "\n",
      "recall_bm25 chunk: Time 4.335123960177103 minutes\n",
      "\n",
      "recall_bm25 chunk: Time 4.346864207585653 minutes\n",
      "\n",
      "recall_bm25 chunk: Time 4.346805985768636 minutes\n",
      "\n",
      "Time cost: 4.365345474084219\n",
      "Pooling processes for recall_sparse_mat_sim\n",
      "CPU cores: 8\n",
      "Cores used: 8\n",
      "Begin recall_sparse_mat_sim chunk\n",
      "\n",
      "Begin recall_sparse_mat_sim chunk\n",
      "\n",
      "Begin recall_sparse_mat_sim chunk\n",
      "\n",
      "Begin recall_sparse_mat_sim chunk\n",
      "\n",
      "Begin recall_sparse_mat_sim chunk\n",
      "\n",
      "Begin recall_sparse_mat_sim chunk\n",
      "\n",
      "Begin recall_sparse_mat_sim chunk\n",
      "Begin recall_sparse_mat_sim chunk\n",
      "\n",
      "\n",
      "recall_sparse_mat_sim chunk: Time 1.0815492232640584 minutes\n",
      "\n",
      "recall_sparse_mat_sim chunk: Time 2.177611704667409 minutes\n",
      "\n",
      "recall_sparse_mat_sim chunk: Time 2.1802207191785175 minutes\n",
      "\n",
      "recall_sparse_mat_sim chunk: Time 2.1775776386260985 minutes\n",
      "\n",
      "recall_sparse_mat_sim chunk: Time 2.183965786298116 minutes\n",
      "\n",
      "recall_sparse_mat_sim chunk: Time 2.1821725249290465 minutes\n",
      "\n",
      "recall_sparse_mat_sim chunk: Time 2.1851880153020224 minutes\n",
      "\n",
      "recall_sparse_mat_sim chunk: Time 2.186553382873535 minutes\n",
      "\n",
      "Time cost: 2.2066402117411297\n"
     ]
    }
   ],
   "source": [
    "metric_recall = dict()\n",
    "for func in recall_func_list:\n",
    "    tmp_ret = pool_extract(query_pd, test_recall, func, 400)\n",
    "    query_pd[func.__name__] = tmp_ret['recall_set']"
   ]
  },
  {
   "cell_type": "markdown",
   "metadata": {},
   "source": [
    "## Statistics and Plotting"
   ]
  },
  {
   "cell_type": "code",
   "execution_count": 27,
   "metadata": {
    "ExecuteTime": {
     "end_time": "2020-06-09T10:42:59.970885Z",
     "start_time": "2020-06-09T10:42:59.960184Z"
    },
    "colab": {
     "base_uri": "https://localhost:8080/",
     "height": 50
    },
    "colab_type": "code",
    "execution": {
     "iopub.execute_input": "2020-06-16T07:05:04.297706Z",
     "iopub.status.busy": "2020-06-16T07:05:04.297472Z",
     "iopub.status.idle": "2020-06-16T07:05:04.321481Z",
     "shell.execute_reply": "2020-06-16T07:05:04.320987Z",
     "shell.execute_reply.started": "2020-06-16T07:05:04.297684Z"
    },
    "executionInfo": {
     "elapsed": 937,
     "status": "ok",
     "timestamp": 1591458475821,
     "user": {
      "displayName": "G DC",
      "photoUrl": "https://lh3.googleusercontent.com/a-/AOh14GgdTpZxzZ2QbpOVgSBCa49qEewNSQ8rsi8Y9A_W=s64",
      "userId": "09626979524344434372"
     },
     "user_tz": -480
    },
    "id": "_4ipBZ6TGJCn",
    "outputId": "0eac1090-e38c-4f06-eb1e-069b6773a2cc"
   },
   "outputs": [
    {
     "name": "stdout",
     "output_type": "stream",
     "text": [
      "Documents Sum: 3188\n",
      "[1990, 226, 124, 68, 59, 50, 43, 35, 37, 20, 22, 15, 13, 9, 11, 11, 7, 9, 7, 6, 4, 3, 8, 9, 4, 8, 3, 7, 4, 3, 4, 4, 6, 4, 2, 3, 4, 2, 7, 4, 1, 4, 4, 4, 4, 1, 3, 3, 1, 0]\n",
      "Documents Sum: 3188\n",
      "[1444, 229, 145, 113, 100, 59, 50, 43, 37, 35, 33, 33, 23, 14, 19, 17, 22, 17, 15, 16, 10, 12, 16, 14, 12, 13, 7, 11, 11, 9, 6, 7, 8, 10, 9, 10, 5, 8, 4, 7, 6, 6, 6, 9, 3, 4, 3, 4, 4, 5]\n"
     ]
    }
   ],
   "source": [
    "'''\n",
    "    Statistics for recalling stage\n",
    "'''\n",
    "\n",
    "import numpy as np\n",
    "\n",
    "recall_size_list = np.arange(10, 501, 10).tolist()\n",
    "metric_stat = dict()\n",
    "\n",
    "def test_recall_stat(input_pd, recall_func):\n",
    "    func_name = recall_func.__name__\n",
    "    metric_stat[func_name] = [0 for _ in recall_size_list]\n",
    "    sum_doc = 0\n",
    "    for query in zip(input_pd['query_id'], input_pd['query_text'], input_pd['query_label'], input_pd[func_name]):\n",
    "        query_id, query_text, query_label, recall_set = query\n",
    "        label_set = query_label.split()\n",
    "        sum_doc += len(label_set)\n",
    "        # recall_set = metric_recall[func_name][query_id][:RECALL_SIZE]\n",
    "        for (i, label_i) in enumerate(label_set[:]):\n",
    "            try:\n",
    "                idx = recall_set.index(label_i)\n",
    "                metric_stat[func_name][(idx//10)] += 1\n",
    "            except:\n",
    "                pass\n",
    "    print(f'Documents Sum: {sum_doc}')\n",
    "\n",
    "for func in recall_func_list:\n",
    "    test_recall_stat(query_pd, func)\n",
    "    print(metric_stat[func.__name__])"
   ]
  },
  {
   "cell_type": "code",
   "execution_count": 28,
   "metadata": {
    "ExecuteTime": {
     "end_time": "2020-06-09T10:42:59.982026Z",
     "start_time": "2020-06-09T10:42:59.974441Z"
    },
    "colab": {
     "base_uri": "https://localhost:8080/",
     "height": 70
    },
    "colab_type": "code",
    "execution": {
     "iopub.execute_input": "2020-06-16T07:05:06.767985Z",
     "iopub.status.busy": "2020-06-16T07:05:06.767749Z",
     "iopub.status.idle": "2020-06-16T07:05:06.771275Z",
     "shell.execute_reply": "2020-06-16T07:05:06.770802Z",
     "shell.execute_reply.started": "2020-06-16T07:05:06.767953Z"
    },
    "executionInfo": {
     "elapsed": 834,
     "status": "ok",
     "timestamp": 1591458577858,
     "user": {
      "displayName": "G DC",
      "photoUrl": "https://lh3.googleusercontent.com/a-/AOh14GgdTpZxzZ2QbpOVgSBCa49qEewNSQ8rsi8Y9A_W=s64",
      "userId": "09626979524344434372"
     },
     "user_tz": -480
    },
    "id": "9LZaiBGtTf66",
    "outputId": "367d882a-8442-48fb-b47d-a1846927af22"
   },
   "outputs": [],
   "source": [
    "'''\n",
    "    Prefix sum\n",
    "'''\n",
    "for func in recall_func_list:\n",
    "    func_name = func.__name__\n",
    "    \n",
    "    for i in range(1, len(metric_stat[func_name])):\n",
    "        metric_stat[func_name][i] += metric_stat[func_name][i - 1]"
   ]
  },
  {
   "cell_type": "code",
   "execution_count": 29,
   "metadata": {
    "ExecuteTime": {
     "end_time": "2020-06-09T10:43:00.995297Z",
     "start_time": "2020-06-09T10:42:59.985388Z"
    },
    "colab": {
     "base_uri": "https://localhost:8080/",
     "height": 265
    },
    "colab_type": "code",
    "execution": {
     "iopub.execute_input": "2020-06-16T07:05:08.089841Z",
     "iopub.status.busy": "2020-06-16T07:05:08.089616Z",
     "iopub.status.idle": "2020-06-16T07:05:08.219723Z",
     "shell.execute_reply": "2020-06-16T07:05:08.219276Z",
     "shell.execute_reply.started": "2020-06-16T07:05:08.089819Z"
    },
    "executionInfo": {
     "elapsed": 1469,
     "status": "ok",
     "timestamp": 1591458918881,
     "user": {
      "displayName": "G DC",
      "photoUrl": "https://lh3.googleusercontent.com/a-/AOh14GgdTpZxzZ2QbpOVgSBCa49qEewNSQ8rsi8Y9A_W=s64",
      "userId": "09626979524344434372"
     },
     "user_tz": -480
    },
    "id": "A0-_uh0VUvOe",
    "outputId": "abab0834-a5f8-48aa-d5c8-ca4e604bcefc"
   },
   "outputs": [
    {
     "data": {
      "image/png": "[encoded data removed]",
      "text/plain": [
       "<Figure size 432x288 with 1 Axes>"
      ]
     },
     "metadata": {
      "needs_background": "light"
     },
     "output_type": "display_data"
    }
   ],
   "source": [
    "'''\n",
    "    Recall count\n",
    "'''\n",
    "from matplotlib import pyplot as plt\n",
    "\n",
    "for func in recall_func_list:\n",
    "    func_name = func.__name__\n",
    "    plt.plot(metric_stat[func_name], label=func_name)\n",
    "\n",
    "plt.legend()\n",
    "plt.show()"
   ]
  },
  {
   "cell_type": "code",
   "execution_count": 33,
   "metadata": {
    "ExecuteTime": {
     "end_time": "2020-06-09T10:43:01.118670Z",
     "start_time": "2020-06-09T10:43:00.996425Z"
    },
    "colab": {
     "base_uri": "https://localhost:8080/",
     "height": 265
    },
    "colab_type": "code",
    "execution": {
     "iopub.execute_input": "2020-06-16T07:09:13.097106Z",
     "iopub.status.busy": "2020-06-16T07:09:13.096877Z",
     "iopub.status.idle": "2020-06-16T07:09:13.283461Z",
     "shell.execute_reply": "2020-06-16T07:09:13.283013Z",
     "shell.execute_reply.started": "2020-06-16T07:09:13.097083Z"
    },
    "executionInfo": {
     "elapsed": 986,
     "status": "ok",
     "timestamp": 1591459158565,
     "user": {
      "displayName": "G DC",
      "photoUrl": "https://lh3.googleusercontent.com/a-/AOh14GgdTpZxzZ2QbpOVgSBCa49qEewNSQ8rsi8Y9A_W=s64",
      "userId": "09626979524344434372"
     },
     "user_tz": -480
    },
    "id": "zI3KOqsrUOXP",
    "outputId": "f6b6ddde-5224-4b98-b9b8-aa204536a140"
   },
   "outputs": [
    {
     "data": {
      "image/png": "[encoded data removed]",
      "text/plain": [
       "<Figure size 432x288 with 1 Axes>"
      ]
     },
     "metadata": {
      "needs_background": "light"
     },
     "output_type": "display_data"
    }
   ],
   "source": [
    "'''\n",
    "    Recall ratio\n",
    "'''\n",
    "sum_doc = 3188\n",
    "for func in recall_func_list:\n",
    "    func_name = func.__name__\n",
    "    plt.plot(np.array(metric_stat[func_name]) / sum_doc, label=func_name)\n",
    "\n",
    "plt.ylabel('Recall Ratio')\n",
    "plt.xlabel('Recall Size')\n",
    "plt.title('Recall Ratio Comparison')\n",
    "plt.legend()\n",
    "plt.savefig('recall_ratio.png')\n",
    "plt.show()"
   ]
  },
  {
   "cell_type": "code",
   "execution_count": 34,
   "metadata": {
    "execution": {
     "iopub.execute_input": "2020-06-16T07:12:43.947646Z",
     "iopub.status.busy": "2020-06-16T07:12:43.947420Z",
     "iopub.status.idle": "2020-06-16T07:12:43.951415Z",
     "shell.execute_reply": "2020-06-16T07:12:43.950977Z",
     "shell.execute_reply.started": "2020-06-16T07:12:43.947625Z"
    }
   },
   "outputs": [
    {
     "data": {
      "text/plain": [
       "0.8318695106649937"
      ]
     },
     "execution_count": 34,
     "metadata": {},
     "output_type": "execute_result"
    }
   ],
   "source": [
    "sum([1990, 226, 124, 68, 59, 50, 43, 35, 37, 20])/3188"
   ]
  },
  {
   "cell_type": "markdown",
   "metadata": {},
   "source": [
    "## Export Validation Recall Set\n",
    "\n",
    "As **RECALL_SIZE**=500 by default, we export a data frame of all queries with 500 documents id."
   ]
  },
  {
   "cell_type": "code",
   "execution_count": 35,
   "metadata": {
    "ExecuteTime": {
     "end_time": "2020-06-08T10:01:17.649597Z",
     "start_time": "2020-06-08T10:01:17.060361Z"
    },
    "colab": {
     "base_uri": "https://localhost:8080/",
     "height": 34
    },
    "colab_type": "code",
    "execution": {
     "iopub.execute_input": "2020-06-16T07:14:20.315940Z",
     "iopub.status.busy": "2020-06-16T07:14:20.315704Z",
     "iopub.status.idle": "2020-06-16T07:14:20.623116Z",
     "shell.execute_reply": "2020-06-16T07:14:20.622586Z",
     "shell.execute_reply.started": "2020-06-16T07:14:20.315918Z"
    },
    "executionInfo": {
     "elapsed": 5189,
     "status": "ok",
     "timestamp": 1591500198279,
     "user": {
      "displayName": "G DC",
      "photoUrl": "https://lh3.googleusercontent.com/a-/AOh14GgdTpZxzZ2QbpOVgSBCa49qEewNSQ8rsi8Y9A_W=s64",
      "userId": "09626979524344434372"
     },
     "user_tz": -480
    },
    "id": "KSy-qnI8mDnX",
    "outputId": "e12c5708-ce8e-45ac-b7fa-b15e07cf3391"
   },
   "outputs": [
    {
     "name": "stdout",
     "output_type": "stream",
     "text": [
      "150000 items exported\n"
     ]
    }
   ],
   "source": [
    "'''\n",
    "    Export test data frames\n",
    "'''\n",
    "RECALL_SIZE = 50\n",
    "# RECALL_SIZE = 100\n",
    "\n",
    "def export_query(input_pd):\n",
    "    query_id_col = []\n",
    "    doc_id_col = []\n",
    "\n",
    "    # Recalling features used\n",
    "    func_name = 'recall_bm25'\n",
    "    for query in zip(input_pd['query_id'], input_pd[func_name]):\n",
    "        query_id, recall_set = query\n",
    "        recall_set = recall_set[:RECALL_SIZE]\n",
    "        for doc_id in recall_set:\n",
    "            query_id_col.extend([query_id])\n",
    "            doc_id_col.extend([doc_id])\n",
    "\n",
    "    export_pd = pd.DataFrame({'query_id': query_id_col, 'doc_id': doc_id_col})\n",
    "    print(f'{len(export_pd)} items exported')\n",
    "    return export_pd\n",
    "\n",
    "export_file = csv_folder + f'validation_recalling_{RECALL_SIZE}.csv'\n",
    "export_pd = export_query(query_pd)\n",
    "export_pd['doc_id'] = export_pd['doc_id'].apply(int)\n",
    "export_pd['query_id'] = export_pd['query_id'].apply(int)\n",
    "export_pd.to_csv(export_file, index=False)"
   ]
  },
  {
   "cell_type": "markdown",
   "metadata": {},
   "source": [
    "## Generate Features for Recall Set"
   ]
  },
  {
   "cell_type": "code",
   "execution_count": 36,
   "metadata": {
    "ExecuteTime": {
     "end_time": "2020-06-08T10:04:24.336698Z",
     "start_time": "2020-06-08T10:04:24.319614Z"
    },
    "execution": {
     "iopub.execute_input": "2020-06-16T07:14:35.491668Z",
     "iopub.status.busy": "2020-06-16T07:14:35.491438Z",
     "iopub.status.idle": "2020-06-16T07:14:35.498868Z",
     "shell.execute_reply": "2020-06-16T07:14:35.498236Z",
     "shell.execute_reply.started": "2020-06-16T07:14:35.491646Z"
    }
   },
   "outputs": [],
   "source": [
    "'''\n",
    "    Interface for training dataset generation\n",
    "    * Features computation\n",
    "'''\n",
    "\n",
    "def pool_extract(data, f, chunk_size, worker=8):\n",
    "    from multiprocessing import cpu_count,Pool\n",
    "    cpu_worker = cpu_count()\n",
    "    print('CPU core:{}'.format(cpu_worker))\n",
    "    if worker == -1 or worker > cpu_worker:\n",
    "        worker = cpu_worker\n",
    "    print('Cores used:{}'.format(worker))\n",
    "    len_data = len(data)\n",
    "    start = 0\n",
    "    end = 0\n",
    "    p = Pool(worker)\n",
    "    res = []\n",
    "    while end < len_data:\n",
    "        end = start + chunk_size\n",
    "        if end > len_data:\n",
    "            end = len_data\n",
    "        rslt = p.apply_async(f, args=(data[start:end],))\n",
    "        start = end\n",
    "        res.append(rslt)\n",
    "    p.close()\n",
    "    p.join()\n",
    "    results = pd.concat([i.get() for i in res], axis=0, ignore_index=True)\n",
    "    return results\n",
    "\n",
    "def generate_features(export_file, feature_file, new_set=False):\n",
    "    feature_pd = None\n",
    "    if new_set:\n",
    "        export_pd = pd.read_csv(export_file)\n",
    "        feature_pd = export_pd[['doc_id', 'query_id']]\n",
    "    else:\n",
    "        feature_pd = pd.read_csv(feature_file)\n",
    "    # feature_pd = get_features(feature_pd)\n",
    "    feature_pd = pool_extract(feature_pd, get_features, CHUNK_SIZE, worker=8)\n",
    "    feature_pd.to_csv(feature_file, index=False)"
   ]
  },
  {
   "cell_type": "code",
   "execution_count": null,
   "metadata": {
    "ExecuteTime": {
     "end_time": "2020-06-08T10:06:23.709395Z",
     "start_time": "2020-06-08T10:04:28.496120Z"
    },
    "colab": {
     "base_uri": "https://localhost:8080/",
     "height": 232
    },
    "colab_type": "code",
    "executionInfo": {
     "elapsed": 869,
     "status": "error",
     "timestamp": 1591577469473,
     "user": {
      "displayName": "G DC",
      "photoUrl": "https://lh3.googleusercontent.com/a-/AOh14GgdTpZxzZ2QbpOVgSBCa49qEewNSQ8rsi8Y9A_W=s64",
      "userId": "09626979524344434372"
     },
     "user_tz": -480
    },
    "id": "HTHIorTuvcGT",
    "outputId": "f1d16e51-4d64-4130-ade8-f6110f4ddbc0"
   },
   "outputs": [],
   "source": [
    "RECALL_SIZE = 50\n",
    "csv_folder = './data/csv/'\n",
    "test_folder = './data/test/'\n",
    "CHUNK_SIZE = RECALL_SIZE * len(query_pd) // 8\n",
    "print(f'Chunk Size = {CHUNK_SIZE}')\n",
    "\n",
    "export_file = csv_folder + f'validation_recalling_{RECALL_SIZE}.csv'\n",
    "feature_file = test_folder + f'validation_recalling_{RECALL_SIZE}.csv'\n",
    "\n",
    "generate_features(export_file, feature_file, new_set=True)"
   ]
  },
  {
   "cell_type": "markdown",
   "metadata": {},
   "source": [
    "## Get Ranking Scores"
   ]
  },
  {
   "cell_type": "code",
   "execution_count": 4,
   "metadata": {
    "ExecuteTime": {
     "end_time": "2020-06-09T11:12:46.286903Z",
     "start_time": "2020-06-09T11:12:45.529059Z"
    },
    "execution": {
     "iopub.execute_input": "2020-06-17T01:43:59.865253Z",
     "iopub.status.busy": "2020-06-17T01:43:59.864943Z",
     "iopub.status.idle": "2020-06-17T01:44:00.525596Z",
     "shell.execute_reply": "2020-06-17T01:44:00.524825Z",
     "shell.execute_reply.started": "2020-06-17T01:43:59.865223Z"
    }
   },
   "outputs": [],
   "source": [
    "import pandas as pd\n",
    "RECALL_SIZE = 50\n",
    "csv_folder = './data/csv/'\n",
    "test_folder = './data/test/'\n",
    "feature_file = test_folder + f'validation_recalling_{RECALL_SIZE}.csv'\n",
    "feature_pd = pd.read_csv(feature_file)\n",
    "test_pd = feature_pd[['query_id', 'doc_id']]"
   ]
  },
  {
   "cell_type": "code",
   "execution_count": 5,
   "metadata": {
    "ExecuteTime": {
     "end_time": "2020-06-09T05:32:43.980456Z",
     "start_time": "2020-06-09T05:32:43.763708Z"
    },
    "execution": {
     "iopub.execute_input": "2020-06-17T01:44:01.293494Z",
     "iopub.status.busy": "2020-06-17T01:44:01.293223Z",
     "iopub.status.idle": "2020-06-17T01:44:01.552923Z",
     "shell.execute_reply": "2020-06-17T01:44:01.552324Z",
     "shell.execute_reply.started": "2020-06-17T01:44:01.293464Z"
    }
   },
   "outputs": [],
   "source": [
    "feat_name = pd.read_pickle('./model/XGB/50/single_model').get_booster().feature_names"
   ]
  },
  {
   "cell_type": "code",
   "execution_count": 6,
   "metadata": {
    "ExecuteTime": {
     "end_time": "2020-06-09T05:32:49.609525Z",
     "start_time": "2020-06-09T05:32:49.545413Z"
    },
    "execution": {
     "iopub.execute_input": "2020-06-17T01:44:02.388956Z",
     "iopub.status.busy": "2020-06-17T01:44:02.388676Z",
     "iopub.status.idle": "2020-06-17T01:44:02.581861Z",
     "shell.execute_reply": "2020-06-17T01:44:02.581287Z",
     "shell.execute_reply.started": "2020-06-17T01:44:02.388931Z"
    }
   },
   "outputs": [],
   "source": [
    "validation_file = csv_folder + 'validation.csv'\n",
    "validation_pd = pd.read_csv(validation_file)\n",
    "validation_pd.to_csv(validation_file, index=False)\n",
    "# validation_pd = validation_pd.sort_values('query_id')"
   ]
  },
  {
   "cell_type": "markdown",
   "metadata": {},
   "source": [
    "## Eval Ranking"
   ]
  },
  {
   "cell_type": "code",
   "execution_count": 7,
   "metadata": {
    "ExecuteTime": {
     "end_time": "2020-06-09T05:32:55.951239Z",
     "start_time": "2020-06-09T05:32:55.925915Z"
    },
    "execution": {
     "iopub.execute_input": "2020-06-17T01:44:04.110066Z",
     "iopub.status.busy": "2020-06-17T01:44:04.109808Z",
     "iopub.status.idle": "2020-06-17T01:44:04.133678Z",
     "shell.execute_reply": "2020-06-17T01:44:04.131653Z",
     "shell.execute_reply.started": "2020-06-17T01:44:04.110038Z"
    }
   },
   "outputs": [],
   "source": [
    "import numpy as np\n",
    "eval_labels = np.zeros((len(validation_pd), 10))\n",
    "idx = 0\n",
    "for query in zip(validation_pd['query_id'], validation_pd['query_label']):\n",
    "    query_id, query_label = query\n",
    "    query_label = [int(i) for i in query_label.split()]\n",
    "    query_label += [np.nan for _ in range(10-len(query_label))]\n",
    "    eval_labels[idx] = np.array(query_label)\n",
    "    idx += 1"
   ]
  },
  {
   "cell_type": "code",
   "execution_count": 8,
   "metadata": {
    "ExecuteTime": {
     "end_time": "2020-06-09T11:11:01.246719Z",
     "start_time": "2020-06-09T11:11:01.239457Z"
    },
    "execution": {
     "iopub.execute_input": "2020-06-17T01:44:05.771425Z",
     "iopub.status.busy": "2020-06-17T01:44:05.771147Z",
     "iopub.status.idle": "2020-06-17T01:44:05.777391Z",
     "shell.execute_reply": "2020-06-17T01:44:05.776877Z",
     "shell.execute_reply.started": "2020-06-17T01:44:05.771398Z"
    }
   },
   "outputs": [],
   "source": [
    "def get_np_pred(metric='pred'):\n",
    "    test_labels = np.zeros((len(validation_pd), 10))\n",
    "    idx = 0\n",
    "    for name, group in test_pd_group:\n",
    "        group = group.sort_values(metric, ascending=False).head(10)\n",
    "        query_label = group['doc_id'].values.tolist()\n",
    "        test_labels[idx] = np.array(query_label)\n",
    "        idx += 1\n",
    "    return test_labels\n",
    "\n",
    "def rank_pred(metric):\n",
    "    rank_dict = dict()\n",
    "    for name, group in test_pd.groupby('query_id'):\n",
    "        group = group.sort_values(metric, ascending=False)\n",
    "        for i in range(len(group)):\n",
    "            rank_dict[group.iloc[0]['query_id']] = len(group) - i\n",
    "    test_pd[metric] = test_pd['query_id'].apply(lambda x: rank_dict[x])"
   ]
  },
  {
   "cell_type": "code",
   "execution_count": 13,
   "metadata": {
    "ExecuteTime": {
     "end_time": "2020-06-09T11:27:45.853614Z",
     "start_time": "2020-06-09T11:27:37.822916Z"
    },
    "execution": {
     "iopub.execute_input": "2020-06-17T04:10:31.196738Z",
     "iopub.status.busy": "2020-06-17T04:10:31.196478Z",
     "iopub.status.idle": "2020-06-17T04:10:44.867690Z",
     "shell.execute_reply": "2020-06-17T04:10:44.866187Z",
     "shell.execute_reply.started": "2020-06-17T04:10:31.196711Z"
    }
   },
   "outputs": [
    {
     "name": "stdout",
     "output_type": "stream",
     "text": [
      "0.3824079365079368\n",
      "0.428432275132275\n",
      "0.37572037037037037\n",
      "0.4211854497354499\n"
     ]
    }
   ],
   "source": [
    "import warnings\n",
    "warnings.filterwarnings('ignore')\n",
    "\n",
    "lgb_single_pred = get_single_pred(feature_pd[feat_name], 50, 'LGB')\n",
    "xgb_single_pred = get_single_pred(feature_pd[feat_name], 50, 'XGB')\n",
    "cat_single_pred = get_single_pred(feature_pd[feat_name], 50, 'CAT')\n",
    "\n",
    "test_pd['lgb_pred'] = lgb_single_pred / max(lgb_single_pred)\n",
    "test_pd['xgb_pred'] = xgb_single_pred / max(xgb_single_pred)\n",
    "test_pd['cat_pred'] = cat_single_pred / max(cat_single_pred)\n",
    "\n",
    "'''\n",
    "    Weight Scoring\n",
    "'''\n",
    "test_pd_group = test_pd.groupby('query_id', sort=False)\n",
    "\n",
    "recall_pred_col = []\n",
    "for name, group in test_pd_group:\n",
    "    recall_pred_col += [(len(group) - i) / len(group) for i in range(len(group))]\n",
    "test_pd['recall_pred'] = recall_pred_col\n",
    "\n",
    "lgb_mrr = MRR(get_np_pred('lgb_pred'), eval_labels)\n",
    "xgb_mrr = MRR(get_np_pred('xgb_pred'), eval_labels)\n",
    "cat_mrr = MRR(get_np_pred('cat_pred'), eval_labels)\n",
    "bm25_mrr = MRR(get_np_pred('recall_pred'), eval_labels)\n",
    "\n",
    "print(lgb_mrr)\n",
    "print(xgb_mrr)\n",
    "print(cat_mrr)\n",
    "print(bm25_mrr)"
   ]
  },
  {
   "cell_type": "code",
   "execution_count": 14,
   "metadata": {
    "execution": {
     "iopub.execute_input": "2020-06-17T04:10:49.222687Z",
     "iopub.status.busy": "2020-06-17T04:10:49.222398Z",
     "iopub.status.idle": "2020-06-17T04:10:49.241023Z",
     "shell.execute_reply": "2020-06-17T04:10:49.240500Z",
     "shell.execute_reply.started": "2020-06-17T04:10:49.222660Z"
    }
   },
   "outputs": [
    {
     "data": {
      "text/html": [
       "<div>\n",
       "<style scoped>\n",
       "    .dataframe tbody tr th:only-of-type {\n",
       "        vertical-align: middle;\n",
       "    }\n",
       "\n",
       "    .dataframe tbody tr th {\n",
       "        vertical-align: top;\n",
       "    }\n",
       "\n",
       "    .dataframe thead th {\n",
       "        text-align: right;\n",
       "    }\n",
       "</style>\n",
       "<table border=\"1\" class=\"dataframe\">\n",
       "  <thead>\n",
       "    <tr style=\"text-align: right;\">\n",
       "      <th></th>\n",
       "      <th>query_id</th>\n",
       "      <th>doc_id</th>\n",
       "      <th>lgb_pred</th>\n",
       "      <th>xgb_pred</th>\n",
       "      <th>cat_pred</th>\n",
       "      <th>recall_pred</th>\n",
       "    </tr>\n",
       "  </thead>\n",
       "  <tbody>\n",
       "    <tr>\n",
       "      <th>0</th>\n",
       "      <td>404021</td>\n",
       "      <td>2451807</td>\n",
       "      <td>0.999546</td>\n",
       "      <td>0.987537</td>\n",
       "      <td>0.914845</td>\n",
       "      <td>1.00</td>\n",
       "    </tr>\n",
       "    <tr>\n",
       "      <th>1</th>\n",
       "      <td>404021</td>\n",
       "      <td>583441</td>\n",
       "      <td>0.999546</td>\n",
       "      <td>0.992392</td>\n",
       "      <td>0.906713</td>\n",
       "      <td>0.98</td>\n",
       "    </tr>\n",
       "    <tr>\n",
       "      <th>2</th>\n",
       "      <td>404021</td>\n",
       "      <td>265855</td>\n",
       "      <td>0.999546</td>\n",
       "      <td>0.990219</td>\n",
       "      <td>0.915339</td>\n",
       "      <td>0.96</td>\n",
       "    </tr>\n",
       "    <tr>\n",
       "      <th>3</th>\n",
       "      <td>404021</td>\n",
       "      <td>5784331</td>\n",
       "      <td>0.999546</td>\n",
       "      <td>0.973772</td>\n",
       "      <td>0.904767</td>\n",
       "      <td>0.94</td>\n",
       "    </tr>\n",
       "    <tr>\n",
       "      <th>4</th>\n",
       "      <td>404021</td>\n",
       "      <td>6841132</td>\n",
       "      <td>0.999546</td>\n",
       "      <td>0.976786</td>\n",
       "      <td>0.909102</td>\n",
       "      <td>0.92</td>\n",
       "    </tr>\n",
       "    <tr>\n",
       "      <th>...</th>\n",
       "      <td>...</td>\n",
       "      <td>...</td>\n",
       "      <td>...</td>\n",
       "      <td>...</td>\n",
       "      <td>...</td>\n",
       "      <td>...</td>\n",
       "    </tr>\n",
       "    <tr>\n",
       "      <th>149995</th>\n",
       "      <td>733477</td>\n",
       "      <td>2179098</td>\n",
       "      <td>0.915886</td>\n",
       "      <td>0.547937</td>\n",
       "      <td>0.655948</td>\n",
       "      <td>0.10</td>\n",
       "    </tr>\n",
       "    <tr>\n",
       "      <th>149996</th>\n",
       "      <td>733477</td>\n",
       "      <td>1291089</td>\n",
       "      <td>0.915886</td>\n",
       "      <td>0.593837</td>\n",
       "      <td>0.685402</td>\n",
       "      <td>0.08</td>\n",
       "    </tr>\n",
       "    <tr>\n",
       "      <th>149997</th>\n",
       "      <td>733477</td>\n",
       "      <td>1517357</td>\n",
       "      <td>0.965091</td>\n",
       "      <td>0.582305</td>\n",
       "      <td>0.696489</td>\n",
       "      <td>0.06</td>\n",
       "    </tr>\n",
       "    <tr>\n",
       "      <th>149998</th>\n",
       "      <td>733477</td>\n",
       "      <td>3485818</td>\n",
       "      <td>0.915886</td>\n",
       "      <td>0.417827</td>\n",
       "      <td>0.553499</td>\n",
       "      <td>0.04</td>\n",
       "    </tr>\n",
       "    <tr>\n",
       "      <th>149999</th>\n",
       "      <td>733477</td>\n",
       "      <td>4917972</td>\n",
       "      <td>0.915886</td>\n",
       "      <td>0.630588</td>\n",
       "      <td>0.710584</td>\n",
       "      <td>0.02</td>\n",
       "    </tr>\n",
       "  </tbody>\n",
       "</table>\n",
       "<p>150000 rows × 6 columns</p>\n",
       "</div>"
      ],
      "text/plain": [
       "        query_id   doc_id  lgb_pred  xgb_pred  cat_pred  recall_pred\n",
       "0         404021  2451807  0.999546  0.987537  0.914845         1.00\n",
       "1         404021   583441  0.999546  0.992392  0.906713         0.98\n",
       "2         404021   265855  0.999546  0.990219  0.915339         0.96\n",
       "3         404021  5784331  0.999546  0.973772  0.904767         0.94\n",
       "4         404021  6841132  0.999546  0.976786  0.909102         0.92\n",
       "...          ...      ...       ...       ...       ...          ...\n",
       "149995    733477  2179098  0.915886  0.547937  0.655948         0.10\n",
       "149996    733477  1291089  0.915886  0.593837  0.685402         0.08\n",
       "149997    733477  1517357  0.965091  0.582305  0.696489         0.06\n",
       "149998    733477  3485818  0.915886  0.417827  0.553499         0.04\n",
       "149999    733477  4917972  0.915886  0.630588  0.710584         0.02\n",
       "\n",
       "[150000 rows x 6 columns]"
      ]
     },
     "execution_count": 14,
     "metadata": {},
     "output_type": "execute_result"
    }
   ],
   "source": [
    "test_pd"
   ]
  },
  {
   "cell_type": "code",
   "execution_count": null,
   "metadata": {},
   "outputs": [],
   "source": [
    "s_ret = dict()\n",
    "max_ret = 0\n",
    "for a0 in range(0, 10):\n",
    "    for a1 in range(0, 10 - a0 + 1):\n",
    "        for a2 in range(0, 10 - a0 - a1 + 1):\n",
    "            a3 = 10 - a0 - a1 - a2\n",
    "            if a3 < 0:\n",
    "                continue\n",
    "            print(a0, a1, a2, a3)\n",
    "            test_pd['pred'] = (a0 * test_pd['lgb_pred'] + a1 * test_pd['xgb_pred'] + a2 * test_pd['cat_pred'] + a3 * test_pd['recall_pred']) / 4\n",
    "            pred_mrr = MRR(get_np_pred('pred'), eval_labels)\n",
    "            s_ret[(a0, a1, a2, a3)] = pred_mrr\n",
    "            max_ret = max(max_ret, pred_mrr)"
   ]
  },
  {
   "cell_type": "code",
   "execution_count": 43,
   "metadata": {
    "execution": {
     "iopub.execute_input": "2020-06-17T05:27:24.952737Z",
     "iopub.status.busy": "2020-06-17T05:27:24.952463Z",
     "iopub.status.idle": "2020-06-17T05:27:27.997402Z",
     "shell.execute_reply": "2020-06-17T05:27:27.996791Z",
     "shell.execute_reply.started": "2020-06-17T05:27:24.952711Z"
    }
   },
   "outputs": [
    {
     "name": "stdout",
     "output_type": "stream",
     "text": [
      "0.4308230158730158\n"
     ]
    }
   ],
   "source": [
    "def get_weighted_pred(a0, a1, a2, a3):\n",
    "    test_pd['pred'] = (a0 * test_pd['lgb_pred'] + a1 * test_pd['xgb_pred'] + a2 * test_pd['cat_pred'] + a3 * test_pd['recall_pred'])\n",
    "    pred_mrr = MRR(get_np_pred('pred'), eval_labels)\n",
    "    return pred_mrr\n",
    "\n",
    "print(get_weighted_pred(9, 1, 0, 0))"
   ]
  },
  {
   "cell_type": "code",
   "execution_count": 42,
   "metadata": {
    "execution": {
     "iopub.execute_input": "2020-06-17T05:27:05.772642Z",
     "iopub.status.busy": "2020-06-17T05:27:05.772386Z",
     "iopub.status.idle": "2020-06-17T05:27:05.791716Z",
     "shell.execute_reply": "2020-06-17T05:27:05.791247Z",
     "shell.execute_reply.started": "2020-06-17T05:27:05.772615Z"
    }
   },
   "outputs": [
    {
     "data": {
      "text/html": [
       "<div>\n",
       "<style scoped>\n",
       "    .dataframe tbody tr th:only-of-type {\n",
       "        vertical-align: middle;\n",
       "    }\n",
       "\n",
       "    .dataframe tbody tr th {\n",
       "        vertical-align: top;\n",
       "    }\n",
       "\n",
       "    .dataframe thead th {\n",
       "        text-align: right;\n",
       "    }\n",
       "</style>\n",
       "<table border=\"1\" class=\"dataframe\">\n",
       "  <thead>\n",
       "    <tr style=\"text-align: right;\">\n",
       "      <th></th>\n",
       "      <th>query_id</th>\n",
       "      <th>doc_id</th>\n",
       "      <th>lgb_pred</th>\n",
       "      <th>xgb_pred</th>\n",
       "      <th>cat_pred</th>\n",
       "      <th>recall_pred</th>\n",
       "      <th>pred</th>\n",
       "    </tr>\n",
       "  </thead>\n",
       "  <tbody>\n",
       "    <tr>\n",
       "      <th>0</th>\n",
       "      <td>404021</td>\n",
       "      <td>2451807</td>\n",
       "      <td>0.999546</td>\n",
       "      <td>0.987537</td>\n",
       "      <td>0.914845</td>\n",
       "      <td>1.00</td>\n",
       "      <td>2.495862</td>\n",
       "    </tr>\n",
       "    <tr>\n",
       "      <th>1</th>\n",
       "      <td>404021</td>\n",
       "      <td>583441</td>\n",
       "      <td>0.999546</td>\n",
       "      <td>0.992392</td>\n",
       "      <td>0.906713</td>\n",
       "      <td>0.98</td>\n",
       "      <td>2.497076</td>\n",
       "    </tr>\n",
       "    <tr>\n",
       "      <th>2</th>\n",
       "      <td>404021</td>\n",
       "      <td>265855</td>\n",
       "      <td>0.999546</td>\n",
       "      <td>0.990219</td>\n",
       "      <td>0.915339</td>\n",
       "      <td>0.96</td>\n",
       "      <td>2.496532</td>\n",
       "    </tr>\n",
       "    <tr>\n",
       "      <th>3</th>\n",
       "      <td>404021</td>\n",
       "      <td>5784331</td>\n",
       "      <td>0.999546</td>\n",
       "      <td>0.973772</td>\n",
       "      <td>0.904767</td>\n",
       "      <td>0.94</td>\n",
       "      <td>2.492421</td>\n",
       "    </tr>\n",
       "    <tr>\n",
       "      <th>4</th>\n",
       "      <td>404021</td>\n",
       "      <td>6841132</td>\n",
       "      <td>0.999546</td>\n",
       "      <td>0.976786</td>\n",
       "      <td>0.909102</td>\n",
       "      <td>0.92</td>\n",
       "      <td>2.493174</td>\n",
       "    </tr>\n",
       "    <tr>\n",
       "      <th>...</th>\n",
       "      <td>...</td>\n",
       "      <td>...</td>\n",
       "      <td>...</td>\n",
       "      <td>...</td>\n",
       "      <td>...</td>\n",
       "      <td>...</td>\n",
       "      <td>...</td>\n",
       "    </tr>\n",
       "    <tr>\n",
       "      <th>149995</th>\n",
       "      <td>733477</td>\n",
       "      <td>2179098</td>\n",
       "      <td>0.915886</td>\n",
       "      <td>0.547937</td>\n",
       "      <td>0.655948</td>\n",
       "      <td>0.10</td>\n",
       "      <td>2.197727</td>\n",
       "    </tr>\n",
       "    <tr>\n",
       "      <th>149996</th>\n",
       "      <td>733477</td>\n",
       "      <td>1291089</td>\n",
       "      <td>0.915886</td>\n",
       "      <td>0.593837</td>\n",
       "      <td>0.685402</td>\n",
       "      <td>0.08</td>\n",
       "      <td>2.209202</td>\n",
       "    </tr>\n",
       "    <tr>\n",
       "      <th>149997</th>\n",
       "      <td>733477</td>\n",
       "      <td>1517357</td>\n",
       "      <td>0.965091</td>\n",
       "      <td>0.582305</td>\n",
       "      <td>0.696489</td>\n",
       "      <td>0.06</td>\n",
       "      <td>2.317032</td>\n",
       "    </tr>\n",
       "    <tr>\n",
       "      <th>149998</th>\n",
       "      <td>733477</td>\n",
       "      <td>3485818</td>\n",
       "      <td>0.915886</td>\n",
       "      <td>0.417827</td>\n",
       "      <td>0.553499</td>\n",
       "      <td>0.04</td>\n",
       "      <td>2.165200</td>\n",
       "    </tr>\n",
       "    <tr>\n",
       "      <th>149999</th>\n",
       "      <td>733477</td>\n",
       "      <td>4917972</td>\n",
       "      <td>0.915886</td>\n",
       "      <td>0.630588</td>\n",
       "      <td>0.710584</td>\n",
       "      <td>0.02</td>\n",
       "      <td>2.218390</td>\n",
       "    </tr>\n",
       "  </tbody>\n",
       "</table>\n",
       "<p>150000 rows × 7 columns</p>\n",
       "</div>"
      ],
      "text/plain": [
       "        query_id   doc_id  lgb_pred  xgb_pred  cat_pred  recall_pred      pred\n",
       "0         404021  2451807  0.999546  0.987537  0.914845         1.00  2.495862\n",
       "1         404021   583441  0.999546  0.992392  0.906713         0.98  2.497076\n",
       "2         404021   265855  0.999546  0.990219  0.915339         0.96  2.496532\n",
       "3         404021  5784331  0.999546  0.973772  0.904767         0.94  2.492421\n",
       "4         404021  6841132  0.999546  0.976786  0.909102         0.92  2.493174\n",
       "...          ...      ...       ...       ...       ...          ...       ...\n",
       "149995    733477  2179098  0.915886  0.547937  0.655948         0.10  2.197727\n",
       "149996    733477  1291089  0.915886  0.593837  0.685402         0.08  2.209202\n",
       "149997    733477  1517357  0.965091  0.582305  0.696489         0.06  2.317032\n",
       "149998    733477  3485818  0.915886  0.417827  0.553499         0.04  2.165200\n",
       "149999    733477  4917972  0.915886  0.630588  0.710584         0.02  2.218390\n",
       "\n",
       "[150000 rows x 7 columns]"
      ]
     },
     "execution_count": 42,
     "metadata": {},
     "output_type": "execute_result"
    }
   ],
   "source": [
    "test_pd"
   ]
  }
 ],
 "metadata": {
  "colab": {
   "authorship_tag": "ABX9TyOxnbirnMVbjatZ7v7GxQ/S",
   "name": "IR_Interface",
   "provenance": []
  },
  "kernelspec": {
   "display_name": "Python 3",
   "language": "python",
   "name": "python3"
  },
  "language_info": {
   "codemirror_mode": {
    "name": "ipython",
    "version": 3
   },
   "file_extension": ".py",
   "mimetype": "text/x-python",
   "name": "python",
   "nbconvert_exporter": "python",
   "pygments_lexer": "ipython3",
   "version": "3.6.9"
  },
  "toc": {
   "base_numbering": 1,
   "nav_menu": {},
   "number_sections": true,
   "sideBar": true,
   "skip_h1_title": false,
   "title_cell": "Table of Contents",
   "title_sidebar": "Contents",
   "toc_cell": false,
   "toc_position": {
    "height": "551.2px",
    "left": "1228.8px",
    "top": "91.6px",
    "width": "307.2px"
   },
   "toc_section_display": true,
   "toc_window_display": true
  }
 },
 "nbformat": 4,
 "nbformat_minor": 4
}
