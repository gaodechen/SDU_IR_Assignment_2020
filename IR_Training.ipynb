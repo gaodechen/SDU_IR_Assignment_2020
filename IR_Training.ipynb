{
 "cells": [
  {
   "cell_type": "markdown",
   "metadata": {},
   "source": [
    "# Stacking Models Common Utils"
   ]
  },
  {
   "cell_type": "code",
   "execution_count": 1,
   "metadata": {
    "ExecuteTime": {
     "end_time": "2020-06-09T10:00:42.191820Z",
     "start_time": "2020-06-09T10:00:35.828677Z"
    },
    "execution": {
     "iopub.execute_input": "2020-06-17T01:37:16.565312Z",
     "iopub.status.busy": "2020-06-17T01:37:16.565136Z",
     "iopub.status.idle": "2020-06-17T01:37:23.549875Z",
     "shell.execute_reply": "2020-06-17T01:37:23.549147Z",
     "shell.execute_reply.started": "2020-06-17T01:37:16.565289Z"
    }
   },
   "outputs": [],
   "source": [
    "import warnings\n",
    "warnings.filterwarnings(\"ignore\")\n",
    "import pandas as pd\n",
    "import lightgbm as lgb\n",
    "import numpy as np\n",
    "import xgboost as xgb\n",
    "from catboost import CatBoost, Pool\n",
    "from sklearn.model_selection import StratifiedKFold, GroupKFold, KFold, GridSearchCV\n",
    "\n",
    "NEGATIVE_SCALE = 50\n",
    "training_folder = './data/train/'\n",
    "test_folder = './data/test/'\n",
    "csv_folder = './data/csv/'\n",
    "\n",
    "training_file = training_folder + 'features_' + str(NEGATIVE_SCALE) + '.csv'\n",
    "validation_file = training_folder + 'validation_' + str(NEGATIVE_SCALE) + '.csv'\n",
    "training_pd = pd.read_csv(training_file)\n",
    "validation_pd = pd.read_csv(validation_file)\n",
    "# Partial data frames used for quicker gorupby\n",
    "training_pd_part = training_pd[['query_id', 'doc_id']]\n",
    "validation_pd_part = validation_pd[['query_id', 'doc_id']]\n",
    "\n",
    "def get_group(fold_part):\n",
    "    fold_part['group'] = fold_part.groupby('query_id')['query_id'].transform('size')\n",
    "    group = fold_part[['query_id', 'group']].drop_duplicates()['group']\n",
    "    return group\n",
    "\n",
    "def get_eval_group(fold_part):\n",
    "    group = fold_part.groupby('query_id')['query_id'].transform('size')\n",
    "    return group\n",
    "\n",
    "def get_dataset(df):\n",
    "    return df[feat_name], df['relevance']\n",
    "\n",
    "feat_name = []\n",
    "for col in training_pd:\n",
    "    if 'feat_' in col:\n",
    "        feat_name.append(col)\n",
    "\n",
    "for feat in feat_name:\n",
    "    training_pd[feat] = pd.to_numeric(training_pd[feat])\n",
    "    validation_pd[feat] = pd.to_numeric(validation_pd[feat])\n",
    "    \n",
    "'''\n",
    "    Read dataset\n",
    "'''\n",
    "train_x, train_y = get_dataset(training_pd)\n",
    "train_group = get_group(training_pd_part)\n",
    "valid_x, valid_y = get_dataset(validation_pd)\n",
    "valid_group = get_group(validation_pd_part)\n",
    "valid_group_full = get_eval_group(validation_pd_part)"
   ]
  },
  {
   "cell_type": "code",
   "execution_count": 2,
   "metadata": {
    "execution": {
     "iopub.execute_input": "2020-06-17T01:37:23.551113Z",
     "iopub.status.busy": "2020-06-17T01:37:23.550926Z",
     "iopub.status.idle": "2020-06-17T01:37:24.113644Z",
     "shell.execute_reply": "2020-06-17T01:37:24.113061Z",
     "shell.execute_reply.started": "2020-06-17T01:37:23.551091Z"
    }
   },
   "outputs": [],
   "source": [
    "RECALL_SIZE = 50\n",
    "feature_file = test_folder + f'validation_recalling_{RECALL_SIZE}.csv'\n",
    "feature_pd = pd.read_csv(feature_file)\n",
    "test_pd = feature_pd[['query_id', 'doc_id']]\n",
    "test_pd_group = test_pd.groupby('query_id', sort=False)\n",
    "\n",
    "label_file = csv_folder + 'validation.csv'\n",
    "label_pd = pd.read_csv(label_file)\n",
    "\n",
    "eval_labels = np.zeros((len(label_pd), 10))\n",
    "idx = 0\n",
    "for query in zip(label_pd['query_id'], label_pd['query_label']):\n",
    "    query_id, query_label = query\n",
    "    query_label = [int(i) for i in query_label.split()]\n",
    "    query_label += [np.nan for _ in range(10-len(query_label))]\n",
    "    eval_labels[idx] = np.array(query_label)\n",
    "    idx += 1"
   ]
  },
  {
   "cell_type": "code",
   "execution_count": 3,
   "metadata": {
    "execution": {
     "iopub.execute_input": "2020-06-17T01:37:24.114723Z",
     "iopub.status.busy": "2020-06-17T01:37:24.114543Z",
     "iopub.status.idle": "2020-06-17T01:37:24.122078Z",
     "shell.execute_reply": "2020-06-17T01:37:24.121571Z",
     "shell.execute_reply.started": "2020-06-17T01:37:24.114701Z"
    }
   },
   "outputs": [],
   "source": [
    "def MRR(indices_k, target, k=10):\n",
    "    \"\"\"\n",
    "    Compute mean reciprocal rank.\n",
    "    :param logits: 2d array [batch_size x rel_docs_per_query]\n",
    "    :param target: 2d array [batch_size x rel_docs_per_query]\n",
    "    :return: mean reciprocal rank [a float value]\n",
    "    \"\"\"\n",
    "    assert indices_k.shape == target.shape\n",
    "    # num_doc = logits.shape[1]\n",
    "    # indices_k = np.argsort(-logits, 1)[:, :k]  # 取topK 的index   [n, k]\n",
    "\n",
    "    reciprocal_rank = 0\n",
    "    for i in range(target.shape[0]):\n",
    "        for j in range(target.shape[1]):\n",
    "            idx = np.where(indices_k[i] == target[i][j])[0]\n",
    "            if len(idx) != 0:\n",
    "                assert len(idx) == 1\n",
    "                reciprocal_rank += 1.0 / (idx[0] + 1)\n",
    "                break\n",
    "    return reciprocal_rank / indices_k.shape[0]\n",
    "\n",
    "def get_np_pred(metric='pred'):\n",
    "    test_labels = np.zeros((len(label_pd), 10))\n",
    "    idx = 0\n",
    "    for name, group in test_pd_group:\n",
    "        group = group.sort_values(metric, ascending=False).head(10)\n",
    "        query_label = group['doc_id'].values.tolist()\n",
    "        test_labels[idx] = np.array(query_label)\n",
    "        idx += 1\n",
    "    return test_labels\n",
    "\n",
    "def get_pred_mrr(model):\n",
    "    test_pd['pred'] = model.predict(feature_pd[feat_name])\n",
    "    mrr = MRR(get_np_pred('pred'), eval_labels)\n",
    "    return mrr"
   ]
  },
  {
   "cell_type": "markdown",
   "metadata": {
    "colab_type": "text",
    "id": "uqfzAPd3b345"
   },
   "source": [
    "# LightGBM Training"
   ]
  },
  {
   "cell_type": "markdown",
   "metadata": {},
   "source": [
    "## Basic Configurations"
   ]
  },
  {
   "cell_type": "code",
   "execution_count": 11,
   "metadata": {
    "ExecuteTime": {
     "end_time": "2020-06-09T11:28:20.646355Z",
     "start_time": "2020-06-09T11:28:20.638405Z"
    },
    "colab": {},
    "colab_type": "code",
    "execution": {
     "iopub.execute_input": "2020-06-17T01:39:35.098700Z",
     "iopub.status.busy": "2020-06-17T01:39:35.098460Z",
     "iopub.status.idle": "2020-06-17T01:39:35.108802Z",
     "shell.execute_reply": "2020-06-17T01:39:35.108238Z",
     "shell.execute_reply.started": "2020-06-17T01:39:35.098675Z"
    },
    "id": "wXxIoRGzf5DJ"
   },
   "outputs": [],
   "source": [
    "model_folder = f'./model/LGB/{str(NEGATIVE_SCALE)}/'\n",
    "\n",
    "params = {\n",
    "    'n_estimators': 700,\n",
    "    'boosting_type': 'gbdt',\n",
    "    'objective': 'lambdarank',\n",
    "    'metric': 'ndcg',\n",
    "    'ndcg_at': [10],\n",
    "    #'lambda_l1': 1,\n",
    "    #'lambda_l2': 0.1,\n",
    "    'learning_rate': 0.05,\n",
    "    'feature_fraction': 1.0,\n",
    "    'bagging_fraction': 0.8,\n",
    "    # 'bagging_freq': 10,\n",
    "    # 'tree_learner': 'feature',\n",
    "    # 'verbose_eval': 200,\n",
    "    'metric_freq': 10,\n",
    "    'train_metric': True,\n",
    "    'num_leaves': 120,\n",
    "    'max_depth': 7,\n",
    "    # 'min_child_samples': 30,\n",
    "    'random_state': 2020,\n",
    "    'num_threads': 16,\n",
    "    'early_stopping_rounds': 50,\n",
    "    'max_bin': 5,\n",
    "    'min_data_in_left': 75,\n",
    "}\n",
    "\n",
    "\n",
    "'''\n",
    "    Train LightGBM model\n",
    "'''\n",
    "\n",
    "def lgb_train(hyper_params, train_x, train_y, valid_x, valid_y, group_train, group_valid):\n",
    "    training_set = lgb.Dataset(train_x, label=train_y, group=group_train)\n",
    "    validation_set = lgb.Dataset(valid_x, valid_y, reference=training_set, group=group_valid)\n",
    "    model = lgb.train(hyper_params, training_set, valid_sets=[training_set, validation_set], verbose_eval=False)\n",
    "    return model\n",
    "\n",
    "'''\n",
    "    Cross-validation implementation based on sklearn\n",
    "    * 5 Folds\n",
    "'''\n",
    "def lgb_cv_skl(train_x, train_y, test_x, n_splits=5):\n",
    "    folds = KFold(n_splits=n_splits, shuffle=False)\n",
    "    oof = np.zeros(train_x.shape[0])\n",
    "    test_preds = np.zeros(test_x.shape[0])\n",
    "    for fold_num, (train_idx, val_idx) in enumerate(folds.split(train_x, train_y)):\n",
    "        print(\"Fold Number: {}\".format(fold_num + 1))\n",
    "        # Get training fold and validation fold\n",
    "        train_fold_x, train_fold_y = train_x.iloc[train_idx], train_y.iloc[train_idx]\n",
    "        validation_fold_x, validation_fold_y = train_x.iloc[val_idx], train_y.iloc[val_idx]\n",
    "        # Get training groups\n",
    "        train_group = get_group(training_pd_part.iloc[train_idx])\n",
    "        validation_group = get_group(training_pd_part.iloc[val_idx])\n",
    "        # Train model in this fold\n",
    "        model = lgb_train(params, train_fold_x, train_fold_y, validation_fold_x, validation_fold_y, train_group, validation_group)\n",
    "        # Save model\n",
    "        model_path = f'{model_folder}fold_{fold_num}_model'\n",
    "        pd.to_pickle(model, model_path)\n",
    "        pickled_model = pd.read_pickle(model_path)\n",
    "        oof[val_idx] = pickled_model.predict(validation_fold_x)\n",
    "        test_preds += pickled_model.predict(test_x)\n",
    "    return oof, test_preds / n_splits"
   ]
  },
  {
   "cell_type": "markdown",
   "metadata": {},
   "source": [
    "## Training LGB"
   ]
  },
  {
   "cell_type": "code",
   "execution_count": 12,
   "metadata": {
    "ExecuteTime": {
     "end_time": "2020-06-09T11:29:37.372628Z",
     "start_time": "2020-06-09T11:28:24.046165Z"
    },
    "colab": {
     "base_uri": "https://localhost:8080/",
     "height": 101
    },
    "colab_type": "code",
    "execution": {
     "iopub.execute_input": "2020-06-17T01:39:37.747667Z",
     "iopub.status.busy": "2020-06-17T01:39:37.747432Z",
     "iopub.status.idle": "2020-06-17T01:40:14.062837Z",
     "shell.execute_reply": "2020-06-17T01:40:14.062216Z",
     "shell.execute_reply.started": "2020-06-17T01:39:37.747644Z"
    },
    "executionInfo": {
     "elapsed": 5045,
     "status": "ok",
     "timestamp": 1591234972487,
     "user": {
      "displayName": "G DC",
      "photoUrl": "https://lh3.googleusercontent.com/a-/AOh14GgdTpZxzZ2QbpOVgSBCa49qEewNSQ8rsi8Y9A_W=s64",
      "userId": "09626979524344434372"
     },
     "user_tz": -480
    },
    "id": "3INN3oAy_NeN",
    "outputId": "4a0bcd7a-b3fc-4349-c624-3c96fc694055"
   },
   "outputs": [
    {
     "data": {
      "text/plain": [
       "0.3824079365079368"
      ]
     },
     "execution_count": 12,
     "metadata": {},
     "output_type": "execute_result"
    }
   ],
   "source": [
    "# Single LGB\n",
    "single_model = lgb_train(params, train_x, train_y, valid_x, valid_y, train_group, valid_group)\n",
    "get_pred_mrr(single_model)\n",
    "# model_path = model_folder + 'single_model'\n",
    "# pd.to_pickle(single_model, model_path)"
   ]
  },
  {
   "cell_type": "code",
   "execution_count": 30,
   "metadata": {
    "execution": {
     "iopub.execute_input": "2020-06-17T00:49:05.769832Z",
     "iopub.status.busy": "2020-06-17T00:49:05.769583Z",
     "iopub.status.idle": "2020-06-17T00:49:06.092993Z",
     "shell.execute_reply": "2020-06-17T00:49:06.092546Z",
     "shell.execute_reply.started": "2020-06-17T00:49:05.769791Z"
    }
   },
   "outputs": [
    {
     "data": {
      "image/png": "[encoded data removed]",
      "text/plain": [
       "<Figure size 864x432 with 1 Axes>"
      ]
     },
     "metadata": {
      "needs_background": "light"
     },
     "output_type": "display_data"
    }
   ],
   "source": [
    "from matplotlib import pyplot as plt\n",
    "model_path = model_folder + 'single_model'\n",
    "model = pd.read_pickle(model_path)\n",
    "\n",
    "trim_name = [trim[5:] for trim in feat_name]\n",
    "importances = model.feature_importance()\n",
    "\n",
    "plt.figure(figsize=(12,6))\n",
    "plt.ylabel('Importance')\n",
    "plt.title('LightGBM Feature Importances')\n",
    "plt.bar(x = range(len(trim_name)),\n",
    "        height = importances,\n",
    "        tick_label = trim_name,\n",
    "        color = 'dodgerblue',\n",
    "        width = 0.8\n",
    "       )\n",
    "plt.xticks(rotation=90)\n",
    "for x,y in enumerate(importances):\n",
    "    plt.text(x,y+0.1,'%s' %round(y,1),ha='center')\n",
    "\n",
    "plt.title(\"Feature Importances\")\n",
    "plt.savefig('./lgb_feature.png')\n",
    "plt.show()"
   ]
  },
  {
   "cell_type": "code",
   "execution_count": 31,
   "metadata": {
    "ExecuteTime": {
     "end_time": "2020-06-09T08:09:50.891964Z",
     "start_time": "2020-06-09T08:07:00.676111Z"
    },
    "colab": {
     "base_uri": "https://localhost:8080/",
     "height": 34
    },
    "colab_type": "code",
    "execution": {
     "iopub.execute_input": "2020-06-17T00:52:23.885849Z",
     "iopub.status.busy": "2020-06-17T00:52:23.885578Z",
     "iopub.status.idle": "2020-06-17T00:53:02.298426Z",
     "shell.execute_reply": "2020-06-17T00:53:02.297894Z",
     "shell.execute_reply.started": "2020-06-17T00:52:23.885797Z"
    },
    "executionInfo": {
     "elapsed": 16120,
     "status": "ok",
     "timestamp": 1591233310225,
     "user": {
      "displayName": "G DC",
      "photoUrl": "https://lh3.googleusercontent.com/a-/AOh14GgdTpZxzZ2QbpOVgSBCa49qEewNSQ8rsi8Y9A_W=s64",
      "userId": "09626979524344434372"
     },
     "user_tz": -480
    },
    "id": "i5DamDIR8PdY",
    "outputId": "9f150093-2886-4136-e053-af7b479800e0",
    "scrolled": true
   },
   "outputs": [
    {
     "name": "stdout",
     "output_type": "stream",
     "text": [
      "Fold Number: 1\n",
      "Fold Number: 2\n",
      "Fold Number: 3\n",
      "Fold Number: 4\n",
      "Fold Number: 5\n"
     ]
    }
   ],
   "source": [
    "# Cross-validtion\n",
    "cv_ret = lgb_cv_skl(train_x, train_y, valid_x, n_splits=5)"
   ]
  },
  {
   "cell_type": "code",
   "execution_count": null,
   "metadata": {},
   "outputs": [],
   "source": [
    "params = {\n",
    "    'n_estimators': 400,\n",
    "    'boosting_type': 'gbdt',\n",
    "    'objective': 'lambdarank',\n",
    "    'metric': 'ndcg',\n",
    "    'ndcg_at': [10],\n",
    "    #'lambda_l1': 1,\n",
    "    #'lambda_l2': 0.1,\n",
    "    'learning_rate': 0.1,\n",
    "    'feature_fraction': 1.0,\n",
    "    'bagging_fraction': 0.8,\n",
    "    # 'bagging_freq': 10,\n",
    "    # 'tree_learner': 'feature',\n",
    "    # 'verbose_eval': 200,\n",
    "    'metric_freq': 10,\n",
    "    'train_metric': True,\n",
    "    'num_leaves': 120,\n",
    "    'max_depth': 7,\n",
    "    # 'min_child_samples': 30,\n",
    "    'random_state': 2020,\n",
    "    'num_threads': 16,\n",
    "    'early_stopping_rounds': 50,\n",
    "    'max_bin': 5,\n",
    "    'min_data_in_left': 75,\n",
    "}\n",
    "\n",
    "\n",
    "def test_two_param():\n",
    "    ret_dict = dict()\n",
    "    attr1 = 'lambda_l1'\n",
    "    attr2 = 'lambda_l2'\n",
    "    test_params = {\n",
    "        attr1: [1e-5,1e-3,1e-1,0.0,0.1,0.3,0.5,0.7,0.9,1.0],\n",
    "        attr2: [1e-5,1e-3,1e-1,0.0,0.1,0.3,0.5,0.7,0.9,1.0]\n",
    "    }\n",
    "\n",
    "    for key1 in test_params[attr1]:\n",
    "        for key2 in test_params[attr2]:\n",
    "            params[attr1] = key1\n",
    "            params[attr2] = key2\n",
    "            model = lgb_train(params, train_x, train_y, valid_x, valid_y, train_group, valid_group)\n",
    "            mrr = get_pred_mrr(model)\n",
    "            print(f'{key1} {key2} {mrr}')\n",
    "            ret_dict[(key1, key2)] = mrr\n",
    "    \n",
    "    return ret_dict\n",
    "\n",
    "def test_one_param():\n",
    "    ret_dict = dict()\n",
    "    attr = 'n_estimators'\n",
    "    test_params = {\n",
    "        attr: [400, 410, 420, 430, 440, 450],\n",
    "    }\n",
    "    for key in test_params[attr]:\n",
    "        params[attr] = key\n",
    "        model = lgb_train(params, train_x, train_y, valid_x, valid_y, train_group, valid_group)\n",
    "        mrr = get_pred_mrr(model)\n",
    "        print(f'{key} {mrr}')\n",
    "        ret_dict[key] = mrr\n",
    "    return ret_dict\n",
    "\n",
    "ret_dict = test_two_param()"
   ]
  },
  {
   "cell_type": "markdown",
   "metadata": {},
   "source": [
    "# XGBoost Training"
   ]
  },
  {
   "cell_type": "markdown",
   "metadata": {},
   "source": [
    "## Basic Configurations"
   ]
  },
  {
   "cell_type": "code",
   "execution_count": 119,
   "metadata": {
    "ExecuteTime": {
     "end_time": "2020-06-09T08:22:39.126262Z",
     "start_time": "2020-06-09T08:22:39.118663Z"
    },
    "execution": {
     "iopub.execute_input": "2020-06-16T14:45:08.013879Z",
     "iopub.status.busy": "2020-06-16T14:45:08.013645Z",
     "iopub.status.idle": "2020-06-16T14:45:08.024918Z",
     "shell.execute_reply": "2020-06-16T14:45:08.024417Z",
     "shell.execute_reply.started": "2020-06-16T14:45:08.013855Z"
    }
   },
   "outputs": [],
   "source": [
    "model_folder = f'./model/XGB/{str(NEGATIVE_SCALE)}/'\n",
    "\n",
    "params = {'learning_rate': 0.1, 'n_estimators': 400, 'max_depth': 5, 'min_child_weight': 1, 'seed': 0,\n",
    "          'subsample': 0.8, 'colsample_bytree': 0.8, 'gamma': 0.2, 'reg_alpha': 0.1, 'reg_lambda': 0.05,\n",
    "          'objective': 'rank:pairwise', 'eval_metric':'ndcg', 'random_state': 2020, 'n_jobs': 8,}\n",
    "\n",
    "'''\n",
    "    Single model training implementation of XGB\n",
    "'''\n",
    "\n",
    "def xgb_train(hyper_params, train_x, train_y, valid_x, valid_y, train_group, valid_group):\n",
    "    model = xgb.sklearn.XGBRanker(**hyper_params)\n",
    "    model.fit(train_x, train_y, train_group, verbose=False,\n",
    "              eval_set=[(valid_x, valid_y)], eval_group=[valid_group],\n",
    "              early_stopping_rounds=100)\n",
    "    return model\n",
    "    # pred = model.predict(valid_x)\n",
    "\n",
    "'''   \n",
    "    Cross-validation implementation based on sklearn\n",
    "    * 5 Folds\n",
    "'''\n",
    "def xgb_cv_skl(train_x, train_y, test_x, n_splits=5):\n",
    "    folds = KFold(n_splits=n_splits, shuffle=False)\n",
    "    oof = np.zeros(train_x.shape[0])\n",
    "    test_preds = np.zeros(test_x.shape[0])\n",
    "    for fold_num, (train_idx, val_idx) in enumerate(folds.split(train_x, train_y)):\n",
    "        print(\"Fold Number: {}\".format(fold_num + 1))\n",
    "        # Get training fold and validation fold\n",
    "        train_fold_x, train_fold_y = train_x.iloc[train_idx], train_y.iloc[train_idx]\n",
    "        validation_fold_x, validation_fold_y = train_x.iloc[val_idx], train_y.iloc[val_idx]\n",
    "        # Get training groups\n",
    "        train_group = get_group(training_pd_part.iloc[train_idx])\n",
    "        validation_group = get_group(training_pd_part.iloc[val_idx])\n",
    "        # Train model in this fold\n",
    "        model = xgb_train(params, train_fold_x, train_fold_y, validation_fold_x, validation_fold_y, train_group, validation_group)\n",
    "        # Save model\n",
    "        model_path = f'{model_folder}fold_{fold_num}_model'\n",
    "        pd.to_pickle(model, model_path)\n",
    "        pickled_model = pd.read_pickle(model_path)\n",
    "        oof[val_idx] = pickled_model.predict(validation_fold_x)\n",
    "        test_preds += pickled_model.predict(test_x)\n",
    "\n",
    "    return oof, test_preds / n_splits"
   ]
  },
  {
   "cell_type": "markdown",
   "metadata": {},
   "source": [
    "## Training XGB"
   ]
  },
  {
   "cell_type": "code",
   "execution_count": null,
   "metadata": {
    "ExecuteTime": {
     "end_time": "2020-06-09T08:17:09.585912Z",
     "start_time": "2020-06-09T08:15:10.959024Z"
    },
    "scrolled": true
   },
   "outputs": [],
   "source": [
    "test_params = {\n",
    "             #'n_estimators': [400, 500, 600],\n",
    "             # 'max_depth': [3, 4, 5, 6, 7, 8, 9, 10],\n",
    "             # 'min_child_weight': [1, 2, 3, 4, 5, 6],\n",
    "             #'gamma': [0.1, 0.2, 0.3, 0.4, 0.5, 0.6],\n",
    "             #'': ,\n",
    "             #'': ,\n",
    "            }\n",
    "params = {'learning_rate': 0.1, 'n_estimators': 400, 'max_depth': 5, 'min_child_weight': 1, 'seed': 0,\n",
    "          'subsample': 0.8, 'colsample_bytree': 0.8, 'gamma': 0.2, 'reg_alpha': 0.1, 'reg_lambda': 0.05,\n",
    "          'objective': 'rank:pairwise', 'eval_metric':'ndcg', 'random_state': 2020, 'n_jobs': 8,}\n",
    "\n",
    "\n",
    "def test_two_param():\n",
    "    ret_dict = dict()\n",
    "    attr1 = 'reg_alpha'\n",
    "    attr2 = 'reg_lambda'\n",
    "    test_params = {\n",
    "        attr1: [0.05, 0.1, 1, 2, 3],\n",
    "        attr2: [0]\n",
    "    }\n",
    "\n",
    "    for key1 in test_params[attr1]:\n",
    "        for key2 in test_params[attr2]:\n",
    "            params[attr1] = key1\n",
    "            params[attr2] = key2\n",
    "            model = xgb_train(params, train_x, train_y, valid_x, valid_y, train_group, valid_group)\n",
    "            mrr = get_pred_mrr(model)\n",
    "            print(f'{key1} {key2} {mrr}')\n",
    "            ret_dict[(key1, key2)] = mrr\n",
    "    \n",
    "    return ret_dict\n",
    "\n",
    "def test_one_param():\n",
    "    ret_dict = dict()\n",
    "    attr = 'learning_rate'\n",
    "    test_params = {\n",
    "        attr:  [0.12, 0.14, 0.16],\n",
    "    }\n",
    "    for key in test_params[attr]:\n",
    "        params[attr] = key\n",
    "        model = xgb_train(params, train_x, train_y, valid_x, valid_y, train_group, valid_group)\n",
    "        mrr = get_pred_mrr(model)\n",
    "        print(f'{key} {mrr}')\n",
    "        ret_dict[key] = mrr\n",
    "    return ret_dict\n",
    "\n",
    "print(test_one_param())"
   ]
  },
  {
   "cell_type": "code",
   "execution_count": 117,
   "metadata": {
    "execution": {
     "iopub.execute_input": "2020-06-16T14:41:50.845756Z",
     "iopub.status.busy": "2020-06-16T14:41:50.845513Z",
     "iopub.status.idle": "2020-06-16T14:43:18.189682Z",
     "shell.execute_reply": "2020-06-16T14:43:18.189174Z",
     "shell.execute_reply.started": "2020-06-16T14:41:50.845732Z"
    }
   },
   "outputs": [],
   "source": [
    "single_model = xgb_train(params, train_x, train_y, valid_x, valid_y, train_group, valid_group)\n",
    "model_path = f'{model_folder}single_model'\n",
    "pd.to_pickle(single_model, model_path)"
   ]
  },
  {
   "cell_type": "code",
   "execution_count": 120,
   "metadata": {
    "ExecuteTime": {
     "end_time": "2020-06-08T15:32:05.044955Z",
     "start_time": "2020-06-08T15:31:16.624179Z"
    },
    "execution": {
     "iopub.execute_input": "2020-06-16T14:45:10.412458Z",
     "iopub.status.busy": "2020-06-16T14:45:10.412235Z",
     "iopub.status.idle": "2020-06-16T14:51:06.751881Z",
     "shell.execute_reply": "2020-06-16T14:51:06.751438Z",
     "shell.execute_reply.started": "2020-06-16T14:45:10.412435Z"
    },
    "scrolled": true
   },
   "outputs": [
    {
     "name": "stdout",
     "output_type": "stream",
     "text": [
      "Fold Number: 1\n",
      "Fold Number: 2\n",
      "Fold Number: 3\n",
      "Fold Number: 4\n",
      "Fold Number: 5\n"
     ]
    },
    {
     "data": {
      "text/plain": [
       "(array([ 5.684412  , -4.23841238, -1.95727491, ..., -4.18361616,\n",
       "        -3.99951315, -3.49529719]),\n",
       " array([ 6.04801722, -3.7674592 , -3.37124777, ..., -4.12425785,\n",
       "        -4.49856939, -4.10422773]))"
      ]
     },
     "execution_count": 120,
     "metadata": {},
     "output_type": "execute_result"
    }
   ],
   "source": [
    "xgb_cv_skl(train_x, train_y, valid_x)"
   ]
  },
  {
   "cell_type": "markdown",
   "metadata": {},
   "source": [
    "# CatBoost Training"
   ]
  },
  {
   "cell_type": "markdown",
   "metadata": {},
   "source": [
    "## Basic Configurations"
   ]
  },
  {
   "cell_type": "code",
   "execution_count": 44,
   "metadata": {
    "ExecuteTime": {
     "end_time": "2020-06-09T10:14:14.802449Z",
     "start_time": "2020-06-09T10:14:14.416802Z"
    },
    "execution": {
     "iopub.execute_input": "2020-06-17T05:13:40.963366Z",
     "iopub.status.busy": "2020-06-17T05:13:40.962986Z",
     "iopub.status.idle": "2020-06-17T05:13:40.973193Z",
     "shell.execute_reply": "2020-06-17T05:13:40.972632Z",
     "shell.execute_reply.started": "2020-06-17T05:13:40.963336Z"
    }
   },
   "outputs": [],
   "source": [
    "model_folder = f'./model/CAT/{str(NEGATIVE_SCALE)}/'\n",
    "\n",
    "param = {'loss_function':'YetiRank',\n",
    "         'learning_rate': 0.137538463021118,\n",
    "         'iterations': 800,\n",
    "         'depth': 8,\n",
    "         'use_best_model':True,\n",
    "         'random_seed': 2020,\n",
    "         'eval_metric': 'NDCG',\n",
    "         'l2_leaf_reg': 3.958039664583567,\n",
    "         # 'one_hot_max_size' : 20,\n",
    "         'bagging_temperature' :  5.7513358957861715,\n",
    "         # 'max_ctr_complexity': 4,\n",
    "         'thread_count': 64,\n",
    "         'early_stopping_rounds': 100,\n",
    "        }\n",
    "\n",
    "def cat_train(hyper_params, train_x, train_y, valid_x, valid_y, train_pd, valid_pd):\n",
    "    model = CatBoost(hyper_params)\n",
    "    train_pool = Pool(data=train_x, label=train_y, group_id=train_pd['query_id'])\n",
    "    validation_pool = Pool(data=valid_x, label=valid_y, group_id=valid_pd['query_id'])\n",
    "    model.fit(train_pool, eval_set=validation_pool, logging_level='Silent', plot=False)\n",
    "    return model\n",
    "    # pred = model.predict(valid_x)\n",
    "\n",
    "'''   \n",
    "    Cross-validation implementation based on sklearn\n",
    "    * 5 Folds\n",
    "'''\n",
    "def cat_cv_skl(train_x, train_y, test_x, n_splits=5):\n",
    "    folds = KFold(n_splits=n_splits, shuffle=False)\n",
    "    oof = np.zeros(train_x.shape[0])\n",
    "    test_preds = np.zeros(test_x.shape[0])\n",
    "    for fold_num, (train_idx, val_idx) in enumerate(folds.split(train_x, train_y)):\n",
    "        print(\"Fold Number: {}\".format(fold_num + 1))\n",
    "        # Get training fold and validation fold\n",
    "        train_fold_x, train_fold_y = train_x.iloc[train_idx], train_y.iloc[train_idx]\n",
    "        validation_fold_x, validation_fold_y = train_x.iloc[val_idx], train_y.iloc[val_idx]\n",
    "        # Get training groups\n",
    "        train_group = training_pd_part.iloc[train_idx]\n",
    "        validation_group = training_pd_part.iloc[val_idx]\n",
    "        # Train model in this fold\n",
    "        model = cat_train(param, train_fold_x, train_fold_y, validation_fold_x, validation_fold_y, train_group, validation_group)\n",
    "        # Save model\n",
    "        model_path = f'{model_folder}fold_{fold_num}_model'\n",
    "        pd.to_pickle(model, model_path)\n",
    "        pickled_model = pd.read_pickle(model_path)\n",
    "        oof[val_idx] = pickled_model.predict(validation_fold_x)\n",
    "        test_preds += pickled_model.predict(test_x)\n",
    "\n",
    "    return oof, test_preds / n_splits"
   ]
  },
  {
   "cell_type": "markdown",
   "metadata": {},
   "source": [
    "## Training CatBoost"
   ]
  },
  {
   "cell_type": "code",
   "execution_count": 43,
   "metadata": {
    "execution": {
     "iopub.execute_input": "2020-06-17T04:52:11.054105Z",
     "iopub.status.busy": "2020-06-17T04:52:11.053776Z",
     "iopub.status.idle": "2020-06-17T04:59:03.819736Z",
     "shell.execute_reply": "2020-06-17T04:59:03.819106Z",
     "shell.execute_reply.started": "2020-06-17T04:52:11.054080Z"
    }
   },
   "outputs": [
    {
     "name": "stdout",
     "output_type": "stream",
     "text": [
      "0.38279920634920706\n"
     ]
    }
   ],
   "source": [
    "single_model = cat_train(param, train_x, train_y, valid_x, valid_y, train_group, valid_group)\n",
    "mrr = get_pred_mrr(single_model)\n",
    "print(mrr)\n",
    "model_path = f'{model_folder}single_model'\n",
    "pd.to_pickle(single_model, model_path)"
   ]
  },
  {
   "cell_type": "code",
   "execution_count": 45,
   "metadata": {
    "execution": {
     "iopub.execute_input": "2020-06-17T05:14:15.563044Z",
     "iopub.status.busy": "2020-06-17T05:14:15.562704Z",
     "iopub.status.idle": "2020-06-17T05:41:14.425167Z",
     "shell.execute_reply": "2020-06-17T05:41:14.424347Z",
     "shell.execute_reply.started": "2020-06-17T05:14:15.563018Z"
    }
   },
   "outputs": [
    {
     "name": "stdout",
     "output_type": "stream",
     "text": [
      "Fold Number: 1\n",
      "Fold Number: 2\n",
      "Fold Number: 3\n",
      "Fold Number: 4\n",
      "Fold Number: 5\n"
     ]
    }
   ],
   "source": [
    "cat_oof, cat_pred = cat_cv_skl(train_x, train_y, valid_x)"
   ]
  },
  {
   "cell_type": "code",
   "execution_count": 30,
   "metadata": {
    "execution": {
     "iopub.execute_input": "2020-06-17T02:44:13.962978Z",
     "iopub.status.busy": "2020-06-17T02:44:13.962739Z",
     "iopub.status.idle": "2020-06-17T04:33:33.456041Z",
     "shell.execute_reply": "2020-06-17T04:33:33.455325Z",
     "shell.execute_reply.started": "2020-06-17T02:44:13.962954Z"
    }
   },
   "outputs": [
    {
     "name": "stdout",
     "output_type": "stream",
     "text": [
      "|   iter    |  target   | baggin... | l2_lea... | learni... |\n",
      "-------------------------------------------------------------\n",
      "| \u001b[0m 1       \u001b[0m | \u001b[0m 0.3774  \u001b[0m | \u001b[0m 8.418   \u001b[0m | \u001b[0m 7.165   \u001b[0m | \u001b[0m 0.1286  \u001b[0m |\n",
      "| \u001b[0m 2       \u001b[0m | \u001b[0m 0.3768  \u001b[0m | \u001b[0m 4.715   \u001b[0m | \u001b[0m 5.565   \u001b[0m | \u001b[0m 0.1135  \u001b[0m |\n",
      "| \u001b[0m 3       \u001b[0m | \u001b[0m 0.374   \u001b[0m | \u001b[0m 5.455   \u001b[0m | \u001b[0m 4.538   \u001b[0m | \u001b[0m 0.1146  \u001b[0m |\n",
      "| \u001b[95m 4       \u001b[0m | \u001b[95m 0.3811  \u001b[0m | \u001b[95m 6.014   \u001b[0m | \u001b[95m 3.58    \u001b[0m | \u001b[95m 0.1678  \u001b[0m |\n",
      "| \u001b[0m 5       \u001b[0m | \u001b[0m 0.3707  \u001b[0m | \u001b[0m 2.442   \u001b[0m | \u001b[0m 3.977   \u001b[0m | \u001b[0m 0.127   \u001b[0m |\n",
      "| \u001b[0m 6       \u001b[0m | \u001b[0m 0.3798  \u001b[0m | \u001b[0m 3.535   \u001b[0m | \u001b[0m 7.113   \u001b[0m | \u001b[0m 0.1029  \u001b[0m |\n",
      "| \u001b[0m 7       \u001b[0m | \u001b[0m 0.3782  \u001b[0m | \u001b[0m 1.743   \u001b[0m | \u001b[0m 1.669   \u001b[0m | \u001b[0m 0.1482  \u001b[0m |\n",
      "| \u001b[95m 8       \u001b[0m | \u001b[95m 0.3817  \u001b[0m | \u001b[95m 5.398   \u001b[0m | \u001b[95m 3.677   \u001b[0m | \u001b[95m 0.1758  \u001b[0m |\n",
      "| \u001b[0m 9       \u001b[0m | \u001b[0m 0.3805  \u001b[0m | \u001b[0m 6.031   \u001b[0m | \u001b[0m 3.594   \u001b[0m | \u001b[0m 0.1544  \u001b[0m |\n",
      "| \u001b[95m 10      \u001b[0m | \u001b[95m 0.3823  \u001b[0m | \u001b[95m 5.702   \u001b[0m | \u001b[95m 3.571   \u001b[0m | \u001b[95m 0.1971  \u001b[0m |\n",
      "| \u001b[0m 11      \u001b[0m | \u001b[0m 0.3818  \u001b[0m | \u001b[0m 5.856   \u001b[0m | \u001b[0m 3.291   \u001b[0m | \u001b[0m 0.1998  \u001b[0m |\n",
      "| \u001b[0m 12      \u001b[0m | \u001b[0m 0.3803  \u001b[0m | \u001b[0m 5.284   \u001b[0m | \u001b[0m 3.253   \u001b[0m | \u001b[0m 0.2     \u001b[0m |\n",
      "| \u001b[0m 13      \u001b[0m | \u001b[0m 0.3821  \u001b[0m | \u001b[0m 4.868   \u001b[0m | \u001b[0m 3.663   \u001b[0m | \u001b[0m 0.2     \u001b[0m |\n",
      "| \u001b[0m 14      \u001b[0m | \u001b[0m 0.3811  \u001b[0m | \u001b[0m 4.522   \u001b[0m | \u001b[0m 3.297   \u001b[0m | \u001b[0m 0.1263  \u001b[0m |\n",
      "| \u001b[0m 15      \u001b[0m | \u001b[0m 0.308   \u001b[0m | \u001b[0m 4.402   \u001b[0m | \u001b[0m 3.838   \u001b[0m | \u001b[0m 0.2     \u001b[0m |\n",
      "| \u001b[0m 16      \u001b[0m | \u001b[0m 0.3158  \u001b[0m | \u001b[0m 4.795   \u001b[0m | \u001b[0m 2.912   \u001b[0m | \u001b[0m 0.142   \u001b[0m |\n",
      "| \u001b[0m 17      \u001b[0m | \u001b[0m 0.3607  \u001b[0m | \u001b[0m 5.112   \u001b[0m | \u001b[0m 3.946   \u001b[0m | \u001b[0m 0.1011  \u001b[0m |\n",
      "| \u001b[95m 18      \u001b[0m | \u001b[95m 0.3828  \u001b[0m | \u001b[95m 5.751   \u001b[0m | \u001b[95m 3.958   \u001b[0m | \u001b[95m 0.1375  \u001b[0m |\n",
      "| \u001b[0m 19      \u001b[0m | \u001b[0m 0.3718  \u001b[0m | \u001b[0m 6.137   \u001b[0m | \u001b[0m 4.164   \u001b[0m | \u001b[0m 0.109   \u001b[0m |\n",
      "| \u001b[0m 20      \u001b[0m | \u001b[0m 0.3665  \u001b[0m | \u001b[0m 1.812   \u001b[0m | \u001b[0m 1.521   \u001b[0m | \u001b[0m 0.1099  \u001b[0m |\n",
      "=============================================================\n"
     ]
    }
   ],
   "source": [
    "from bayes_opt import BayesianOptimization\n",
    "# Bayesian Optimization\n",
    "def bayesian_cat_train(l2_leaf_reg, bagging_temperature, learning_rate):\n",
    "    params = {'loss_function':'YetiRank',\n",
    "         'learning_rate': learning_rate,\n",
    "         'iterations': 800,\n",
    "         'depth': 8,\n",
    "         'use_best_model':True,\n",
    "         'random_seed': 2020,\n",
    "         'eval_metric': 'NDCG',\n",
    "         'l2_leaf_reg': l2_leaf_reg,\n",
    "         # 'one_hot_max_size' : 20,\n",
    "         'bagging_temperature' : bagging_temperature,\n",
    "         # 'max_ctr_complexity': 4,\n",
    "         'thread_count': 64,\n",
    "         'early_stopping_rounds': 100,\n",
    "    }\n",
    " \n",
    "    model = cat_train(params, train_x, train_y, valid_x, valid_y, train_group, valid_group)\n",
    "    mrr = get_pred_mrr(model)\n",
    "    return mrr\n",
    " \n",
    "cat_opt = BayesianOptimization(bayesian_cat_train, {\n",
    "                                'l2_leaf_reg': (1, 9),\n",
    "                                'bagging_temperature': (1, 10),\n",
    "                                'learning_rate': (0.1, 0.2),\n",
    "                            })\n",
    " \n",
    "cat_opt.maximize(init_points=5, n_iter=15)"
   ]
  },
  {
   "cell_type": "code",
   "execution_count": 41,
   "metadata": {
    "execution": {
     "iopub.execute_input": "2020-06-17T04:51:05.731918Z",
     "iopub.status.busy": "2020-06-17T04:51:05.731641Z",
     "iopub.status.idle": "2020-06-17T04:51:05.735794Z",
     "shell.execute_reply": "2020-06-17T04:51:05.735231Z",
     "shell.execute_reply.started": "2020-06-17T04:51:05.731893Z"
    }
   },
   "outputs": [
    {
     "name": "stdout",
     "output_type": "stream",
     "text": [
      "{'bagging_temperature': 5.7513358957861715, 'l2_leaf_reg': 3.958039664583567, 'learning_rate': 0.137538463021118}\n"
     ]
    }
   ],
   "source": [
    "print(cat_opt.res[17]['params'])"
   ]
  }
 ],
 "metadata": {
  "colab": {
   "authorship_tag": "ABX9TyOWl55zNmOYAsDKd4eNIf1T",
   "collapsed_sections": [],
   "name": "IR_Training",
   "provenance": []
  },
  "kernelspec": {
   "display_name": "Python 3",
   "language": "python",
   "name": "python3"
  },
  "language_info": {
   "codemirror_mode": {
    "name": "ipython",
    "version": 3
   },
   "file_extension": ".py",
   "mimetype": "text/x-python",
   "name": "python",
   "nbconvert_exporter": "python",
   "pygments_lexer": "ipython3",
   "version": "3.6.9"
  },
  "toc": {
   "base_numbering": 1,
   "nav_menu": {},
   "number_sections": true,
   "sideBar": true,
   "skip_h1_title": false,
   "title_cell": "Table of Contents",
   "title_sidebar": "Contents",
   "toc_cell": false,
   "toc_position": {
    "height": "calc(100% - 180px)",
    "left": "10px",
    "top": "150px",
    "width": "307.2px"
   },
   "toc_section_display": true,
   "toc_window_display": true
  }
 },
 "nbformat": 4,
 "nbformat_minor": 4
}
